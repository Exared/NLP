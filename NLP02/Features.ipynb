{
 "cells": [
  {
   "cell_type": "code",
   "execution_count": 120,
   "metadata": {},
   "outputs": [
    {
     "name": "stdout",
     "output_type": "stream",
     "text": [
      "Requirement already satisfied: vaderSentiment in c:\\users\\$0nt000-3g88gugfr0b8\\appdata\\local\\packages\\pythonsoftwarefoundation.python.3.10_qbz5n2kfra8p0\\localcache\\local-packages\\python310\\site-packages (3.3.2)\n",
      "Requirement already satisfied: requests in c:\\users\\$0nt000-3g88gugfr0b8\\appdata\\local\\packages\\pythonsoftwarefoundation.python.3.10_qbz5n2kfra8p0\\localcache\\local-packages\\python310\\site-packages (from vaderSentiment) (2.28.2)\n",
      "Requirement already satisfied: charset-normalizer<4,>=2 in c:\\users\\$0nt000-3g88gugfr0b8\\appdata\\local\\packages\\pythonsoftwarefoundation.python.3.10_qbz5n2kfra8p0\\localcache\\local-packages\\python310\\site-packages (from requests->vaderSentiment) (3.1.0)\n",
      "Requirement already satisfied: certifi>=2017.4.17 in c:\\users\\$0nt000-3g88gugfr0b8\\appdata\\local\\packages\\pythonsoftwarefoundation.python.3.10_qbz5n2kfra8p0\\localcache\\local-packages\\python310\\site-packages (from requests->vaderSentiment) (2022.12.7)\n",
      "Requirement already satisfied: idna<4,>=2.5 in c:\\users\\$0nt000-3g88gugfr0b8\\appdata\\local\\packages\\pythonsoftwarefoundation.python.3.10_qbz5n2kfra8p0\\localcache\\local-packages\\python310\\site-packages (from requests->vaderSentiment) (3.4)\n",
      "Requirement already satisfied: urllib3<1.27,>=1.21.1 in c:\\users\\$0nt000-3g88gugfr0b8\\appdata\\local\\packages\\pythonsoftwarefoundation.python.3.10_qbz5n2kfra8p0\\localcache\\local-packages\\python310\\site-packages (from requests->vaderSentiment) (1.26.15)\n"
     ]
    }
   ],
   "source": [
    "import datasets\n",
    "import requests\n",
    "import numpy as np"
   ]
  },
  {
   "cell_type": "code",
   "execution_count": 121,
   "metadata": {},
   "outputs": [
    {
     "name": "stderr",
     "output_type": "stream",
     "text": [
      "Found cached dataset imdb (C:/Users/$0NT000-3G88GUGFR0B8/.cache/huggingface/datasets/imdb/plain_text/1.0.0/d613c88cf8fa3bab83b4ded3713f1f74830d1100e171db75bbddb80b3345c9c0)\n",
      "100%|██████████| 3/3 [00:00<00:00, 201.94it/s]\n"
     ]
    }
   ],
   "source": [
    "dataset = datasets.load_dataset('imdb')\n",
    "\n",
    "train_dataset = dataset['train']\n",
    "test_dataset = dataset['test']\n",
    "\n",
    "url = \"https://raw.githubusercontent.com/cjhutto/vaderSentiment/master/vaderSentiment/vader_lexicon.txt\"\n",
    "response = requests.get(url)\n",
    "text = response.text\n",
    "lines = text.split(\"\\n\")\n",
    "values = [line.split() for line in lines]\n",
    "dict = {}\n",
    "for obj in values:\n",
    "    if len(obj) != 13:\n",
    "        continue\n",
    "    dict.update({obj[0]: obj[1]})"
   ]
  },
  {
   "cell_type": "code",
   "execution_count": 122,
   "metadata": {},
   "outputs": [],
   "source": [
    "def lowercase_punctuation(text):\n",
    "    newtext = text.lower()\n",
    "    # remove <br /> tags\n",
    "    newtext = newtext.replace('<br />', '')\n",
    "    # remove punctuation\n",
    "    newtext = ''.join([c if c not in \"\\\"#$%&()*+,./:;<=>?@[\\]^_`{|}~\" else ' ' for c in newtext])\n",
    "    return newtext.split()"
   ]
  },
  {
   "cell_type": "code",
   "execution_count": 123,
   "metadata": {},
   "outputs": [],
   "source": [
    "def count_pronouns(word_list):\n",
    "    count = 0\n",
    "    for word in word_list:\n",
    "        if word in [\"i\", \"you\", \"we\"]:\n",
    "            count += 1\n",
    "    return count"
   ]
  },
  {
   "cell_type": "code",
   "execution_count": 124,
   "metadata": {},
   "outputs": [],
   "source": [
    "def lexicon_word_counter(word_list):\n",
    "    positive_count = 0\n",
    "    negative_count = 0\n",
    "    lower_lexicon_value = -1\n",
    "    upper_lexicon_value = 1\n",
    "    for word in word_list:\n",
    "        if word in dict.keys():\n",
    "            sentimental_value = dict[word]\n",
    "            if float(sentimental_value) < lower_lexicon_value:\n",
    "                negative_count += 1\n",
    "            elif float(sentimental_value) > upper_lexicon_value:\n",
    "                positive_count += 1\n",
    "    return positive_count, negative_count"
   ]
  },
  {
   "cell_type": "code",
   "execution_count": 125,
   "metadata": {},
   "outputs": [],
   "source": [
    "def vector_generator(dataset):\n",
    "    resulting_vector = []\n",
    "    for obj in dataset:\n",
    "        word_list = lowercase_punctuation(obj['text'])\n",
    "        check_no = 1 if word_list.__contains__('no') else 0\n",
    "        nb_pronouns = count_pronouns(word_list)\n",
    "        check_exclamation = 1 if word_list.__contains__('!') else 0\n",
    "        log_nb_words = np.log(len(word_list))\n",
    "        positive_count, negative_count = lexicon_word_counter(word_list)\n",
    "        resulting_vector.append([check_no, nb_pronouns, check_exclamation, log_nb_words, positive_count, negative_count])\n",
    "    return resulting_vector"
   ]
  },
  {
   "cell_type": "code",
   "execution_count": null,
   "metadata": {},
   "outputs": [],
   "source": [
    "train_result = vector_generator(train_dataset)"
   ]
  }
 ],
 "metadata": {
  "kernelspec": {
   "display_name": "Python 3",
   "language": "python",
   "name": "python3"
  },
  "language_info": {
   "codemirror_mode": {
    "name": "ipython",
    "version": 3
   },
   "file_extension": ".py",
   "mimetype": "text/x-python",
   "name": "python",
   "nbconvert_exporter": "python",
   "pygments_lexer": "ipython3",
   "version": "3.10.10"
  },
  "orig_nbformat": 4
 },
 "nbformat": 4,
 "nbformat_minor": 2
}
