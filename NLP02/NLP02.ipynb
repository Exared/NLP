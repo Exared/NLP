{
 "cells": [
  {
   "cell_type": "code",
   "execution_count": 2,
   "metadata": {},
   "outputs": [
    {
     "name": "stderr",
     "output_type": "stream",
     "text": [
      "C:\\Users\\theot\\AppData\\Local\\Packages\\PythonSoftwareFoundation.Python.3.11_qbz5n2kfra8p0\\LocalCache\\local-packages\\Python311\\site-packages\\tqdm\\auto.py:21: TqdmWarning: IProgress not found. Please update jupyter and ipywidgets. See https://ipywidgets.readthedocs.io/en/stable/user_install.html\n",
      "  from .autonotebook import tqdm as notebook_tqdm\n",
      "Found cached dataset imdb (C:/Users/theot/.cache/huggingface/datasets/imdb/plain_text/1.0.0/d613c88cf8fa3bab83b4ded3713f1f74830d1100e171db75bbddb80b3345c9c0)\n"
     ]
    }
   ],
   "source": [
    "import requests\n",
    "import numpy as np\n",
    "import datasets\n",
    "import torch\n",
    "from torch import nn\n",
    "from sklearn.model_selection import train_test_split\n",
    "import seaborn as sns\n",
    "import matplotlib.pyplot as plt\n",
    "import pandas as pd\n",
    "\n",
    "url = \"https://raw.githubusercontent.com/cjhutto/vaderSentiment/master/vaderSentiment/vader_lexicon.txt\"\n",
    "response = requests.get(url)\n",
    "text = response.text\n",
    "lines = text.split(\"\\n\")\n",
    "vader_lexicon = {}\n",
    "for line in lines:\n",
    "    tokens = line.split()\n",
    "    if len(tokens) != 13:\n",
    "        continue\n",
    "    vader_lexicon.update({tokens[0]: float(tokens[1])})\n",
    "\n",
    "def lowercase_punctuation(text):\n",
    "    newtext = text.lower()\n",
    "    # remove <br /> tags\n",
    "    newtext = newtext.replace('<br />', '')\n",
    "    # remove punctuation\n",
    "    newtext = ''.join([c if c not in \"\\\"#$%&()*+,./:;<=>?@[\\]^_`{|}~\" else ' ' for c in newtext])\n",
    "    return newtext\n",
    "\n",
    "def count_pronouns(word_list):\n",
    "    count = 0\n",
    "    for word in word_list:\n",
    "        if word in [\"i\", \"me\", \"mine\", \"my\", \"your\", \"yours\", \"yourselves\", \"you\"]:\n",
    "            count += 1\n",
    "    return count\n",
    "\n",
    "def lexicon_word_counter(word_list):\n",
    "    positive_count = 0\n",
    "    negative_count = 0\n",
    "    for word in word_list:\n",
    "        if word in vader_lexicon.keys():\n",
    "            score = vader_lexicon[word]\n",
    "            if score < -1:\n",
    "                negative_count += 1\n",
    "            elif score > 1:\n",
    "                positive_count += 1\n",
    "    return positive_count, negative_count\n",
    "\n",
    "def vectorize_dataset(dataset):\n",
    "    dataset_vectors = []\n",
    "    for obj in dataset:\n",
    "        word_list = lowercase_punctuation(obj['text']).split()\n",
    "        check_no = 1 if word_list.__contains__('no') else 0\n",
    "        nb_pronouns = count_pronouns(word_list)\n",
    "        check_exclamation = 1 if word_list.__contains__('!') else 0\n",
    "        log_nb_words = np.log(len(word_list))\n",
    "        positive_count, negative_count = lexicon_word_counter(word_list)\n",
    "        dataset_vectors.append([check_no, nb_pronouns, check_exclamation, log_nb_words, positive_count, negative_count])\n",
    "    return dataset_vectors\n",
    "\n",
    "train_dataset = datasets.load_dataset('imdb', split='train')\n"
   ]
  },
  {
   "attachments": {},
   "cell_type": "markdown",
   "metadata": {},
   "source": [
    "A present nous avons notre fonction qui est capable de transformer tous les textes du dataset en vecteurs de features."
   ]
  },
  {
   "cell_type": "code",
   "execution_count": 3,
   "metadata": {},
   "outputs": [],
   "source": [
    "sentence_vectors = torch.tensor(vectorize_dataset(train_dataset), dtype=torch.float)\n",
    "labels = torch.tensor(train_dataset['label'], dtype=torch.float).unsqueeze(1)\n",
    "\n",
    "X_train, X_test, y_train, y_test = train_test_split(\n",
    "    sentence_vectors,\n",
    "    labels,\n",
    "    test_size=0.2,\n",
    "    stratify=labels,\n",
    "    random_state=42,\n",
    ")\n",
    "\n",
    "X_train, X_valid, y_train, y_valid = train_test_split(\n",
    "    X_train,\n",
    "    y_train,\n",
    "    test_size=0.2,\n",
    "    stratify=y_train,\n",
    "    random_state=42,\n",
    ")"
   ]
  },
  {
   "cell_type": "code",
   "execution_count": 4,
   "metadata": {},
   "outputs": [],
   "source": [
    "class LogisticRegression(nn.Module):\n",
    "    \"\"\"A logistic regression implementation\"\"\"\n",
    "\n",
    "    def __init__(self, input_dim: int, nb_classes: int) -> None:\n",
    "        \"\"\"\n",
    "        Args:\n",
    "            input_dim: the dimension of the input features.\n",
    "            nb_classes: the number of classes to predict.\n",
    "        \"\"\"\n",
    "        super().__init__()\n",
    "        output_layer = nn.Sigmoid() if nb_classes == 1 else nn.Softmax()\n",
    "        self.classifier = torch.nn.Sequential(\n",
    "            nn.Linear(input_dim, nb_classes),\n",
    "            output_layer,\n",
    "        )\n",
    "\n",
    "    def forward(self, x: torch.Tensor) -> torch.Tensor:\n",
    "        \"\"\"\n",
    "        Args:\n",
    "            x: the input tensor.\n",
    "        Returns:\n",
    "            The output of activation function.\n",
    "        \"\"\"\n",
    "        return self.classifier(x)"
   ]
  },
  {
   "cell_type": "code",
   "execution_count": 7,
   "metadata": {},
   "outputs": [
    {
     "name": "stdout",
     "output_type": "stream",
     "text": [
      "tensor(1.1778, grad_fn=<BinaryCrossEntropyBackward0>)\n",
      "tensor(0.5828, grad_fn=<BinaryCrossEntropyBackward0>)\n",
      "tensor(0.5828, grad_fn=<BinaryCrossEntropyBackward0>)\n",
      "tensor(0.5830, grad_fn=<BinaryCrossEntropyBackward0>)\n",
      "tensor(0.5832, grad_fn=<BinaryCrossEntropyBackward0>)\n",
      "tensor(0.5833, grad_fn=<BinaryCrossEntropyBackward0>)\n",
      "tensor(0.5834, grad_fn=<BinaryCrossEntropyBackward0>)\n",
      "tensor(0.5834, grad_fn=<BinaryCrossEntropyBackward0>)\n",
      "tensor(0.5835, grad_fn=<BinaryCrossEntropyBackward0>)\n",
      "tensor(0.5835, grad_fn=<BinaryCrossEntropyBackward0>)\n"
     ]
    },
    {
     "data": {
      "image/png": "[encoded data removed]",
      "text/plain": [
       "<Figure size 640x480 with 1 Axes>"
      ]
     },
     "metadata": {},
     "output_type": "display_data"
    },
    {
     "data": {
      "image/png": "[encoded data removed]",
      "text/plain": [
       "<Figure size 640x480 with 1 Axes>"
      ]
     },
     "metadata": {},
     "output_type": "display_data"
    }
   ],
   "source": [
    "model = LogisticRegression(6, 1)\n",
    "criterion = nn.BCELoss()  # Binary cross entropy\n",
    "# Stochastic gradient descent\n",
    "optimizer = torch.optim.SGD(model.parameters(), lr=0.01, weight_decay=0.5)\n",
    "\n",
    "n_epochs = 1000\n",
    "\n",
    "# Keeping an eye on the losses\n",
    "train_losses = []\n",
    "test_losses = []\n",
    "train_accs = []\n",
    "test_accs = []\n",
    "valid_accs = []\n",
    "\n",
    "# Training loop\n",
    "for epoch in range(n_epochs):\n",
    "    # Setting all gradients to zero.\n",
    "    optimizer.zero_grad()\n",
    "    # Sending the whole training set through the model.\n",
    "    predictions = model(X_train)\n",
    "    # Computing the loss.\n",
    "    loss = criterion(predictions, y_train)\n",
    "    train_losses.append(loss.item())\n",
    "    if epoch % 100 == 0:\n",
    "        print(loss)\n",
    "    # Computing the gradients and gradient descent.\n",
    "    loss.backward()\n",
    "    optimizer.step()\n",
    "    # Calculer la précision sur l'ensemble d'entraînement\n",
    "    train_preds = model(X_train).round().detach().cpu().numpy()\n",
    "    train_acc = (train_preds == y_train.detach().cpu().numpy()).mean()\n",
    "    train_accs.append(train_acc)\n",
    "\n",
    "    # When computing the validation loss, we do not want to update the weights.\n",
    "    # torch.no_grad tells PyTorch to not save the necessary data used for\n",
    "    # gradient descent.\n",
    "    with torch.no_grad():\n",
    "        predictions = model(X_valid)\n",
    "        loss = criterion(predictions, y_valid)\n",
    "        test_losses.append(loss)\n",
    "        valid_preds = model(X_valid).round().detach().cpu().numpy()\n",
    "        valid_acc = (valid_preds == y_valid.detach().cpu().numpy()).mean()\n",
    "        valid_accs.append(valid_acc)\n",
    "    \n",
    "    test_preds = model(X_test).round().detach().cpu().numpy()\n",
    "    test_acc = (test_preds == y_test.detach().cpu().numpy()).mean()\n",
    "    test_accs.append(test_acc)\n",
    "\n",
    "plt.plot(np.arange(len(train_losses)), train_losses, label=\"Training loss\")\n",
    "plt.plot(np.arange(len(test_losses)), test_losses, label=\"Test loss\")\n",
    "plt.legend()\n",
    "plt.figure()\n",
    "plt.plot(train_accs, label=\"Training accuracy\")\n",
    "plt.plot(valid_accs, label=\"Validation accuracy\")\n",
    "plt.plot(test_accs, label=\"Test accuracy\")\n",
    "plt.legend()\n",
    "plt.show()"
   ]
  },
  {
   "cell_type": "code",
   "execution_count": 36,
   "metadata": {},
   "outputs": [
    {
     "name": "stdout",
     "output_type": "stream",
     "text": [
      "Training accuracy: 0.715\n",
      "Validation accuracy: 0.717\n",
      "Test accuracy: 0.698\n"
     ]
    }
   ],
   "source": [
    "# Imprimer les précisions\n",
    "print(f\"Training accuracy: {train_accs[-1]:.3f}\")\n",
    "print(f\"Validation accuracy: {valid_accs[-1]:.3f}\")\n",
    "print(f\"Test accuracy: {test_accs[-1]:.3f}\")"
   ]
  },
  {
   "attachments": {},
   "cell_type": "markdown",
   "metadata": {},
   "source": [
    "Training accuracy: 0.715\n",
    "Validation accuracy: 0.717\n",
    "Test accuracy: 0.698"
   ]
  },
  {
   "cell_type": "code",
   "execution_count": 8,
   "metadata": {},
   "outputs": [
    {
     "name": "stdout",
     "output_type": "stream",
     "text": [
      "[-0.0299 -0.036  -0.0049 -0.0179  0.1306 -0.1545]\n",
      "['check_no', 'nb_pronouns', 'check_exclamation', 'log_nb_words', 'positive_count', 'negative_count']\n"
     ]
    }
   ],
   "source": [
    "#print the weights of the model\n",
    "weights = model.classifier[0].weight.detach().numpy()[0].round(4)\n",
    "features = ['check_no', 'nb_pronouns', 'check_exclamation', 'log_nb_words', 'positive_count', 'negative_count']\n",
    "print(weights)\n",
    "print(features)"
   ]
  },
  {
   "attachments": {},
   "cell_type": "markdown",
   "metadata": {},
   "source": [
    "Ici nous pouvons que les poids du model sont respectivement: [-0.0299, -0.036, -0.0049, -0.0179,  0.1306, -0.1545]\n",
    "Il faut regarder quel est la plus grosse valeur absolue pour savoir quel est la caracteristique la plus influente sur la prise de decision.\n",
    "Ici la valeur absolue maximale est 0.1546 ce qui correspond au nombre de mots negatifs dans le commentaire.\n",
    "On peut egalement remarquer que la deuxieme caracteristique la plus influente est le nombre de mots positifs avec un poids de 0.1306.\n",
    "Le reste des caracteristiques est quasiment inutile dans la prise de decision."
   ]
  },
  {
   "cell_type": "code",
   "execution_count": 19,
   "metadata": {},
   "outputs": [
    {
     "name": "stdout",
     "output_type": "stream",
     "text": [
      "\"I Am Curious: Yellow\" is a risible and pretentious steaming pile. It doesn't matter what one's political views are because this film can hardly be taken seriously on any level. As for the claim that frontal male nudity is an automatic NC-17, that isn't true. I've seen R-rated films with male nudity. Granted, they only offer some fleeting views, but where are the R-rated films with gaping vulvas and flapping labia? Nowhere, because they don't exist. The same goes for those crappy cable shows: schlongs swinging in the breeze but not a clitoris in sight. And those pretentious indie movies like The Brown Bunny, in which we're treated to the site of Vincent Gallo's throbbing johnson, but not a trace of pink visible on Chloe Sevigny. Before crying (or implying) \"double-standard\" in matters of nudity, the mentally obtuse should take into account one unavoidably obvious anatomical difference between men and women: there are no genitals on display when actresses appears nude, and the same cannot be said for a man. In fact, you generally won't see female genitals in an American film in anything short of porn or explicit erotica. This alleged double-standard is less a double standard than an admittedly depressing ability to come to terms culturally with the insides of women's bodies.\n",
      "tensor([1.0000, 3.0000, 0.0000, 4.8675, 5.0000, 6.0000])\n",
      "Expected: 1.0\n",
      "Got: 0.0\n",
      "This is said to be a personal film for Peter Bogdonavitch. He based it on his life but changed things around to fit the characters, who are detectives. These detectives date beautiful models and have no problem getting them. Sounds more like a millionaire playboy filmmaker than a detective, doesn't it? This entire movie was written by Peter, and it shows how out of touch with real people he was. You're supposed to write what you know, and he did that, indeed. And leaves the audience bored and confused, and jealous, for that matter. This is a curio for people who want to see Dorothy Stratten, who was murdered right after filming. But Patti Hanson, who would, in real life, marry Keith Richards, was also a model, like Stratten, but is a lot better and has a more ample part. In fact, Stratten's part seemed forced; added. She doesn't have a lot to do with the story, which is pretty convoluted to begin with. All in all, every character in this film is somebody that very few people can relate with, unless you're millionaire from Manhattan with beautiful supermodels at your beckon call. For the rest of us, it's an irritating snore fest. That's what happens when you're out of touch. You entertain your few friends with inside jokes, and bore all the rest.\n",
      "tensor([0.0000, 1.0000, 0.0000, 4.5850, 0.0000, 2.0000])\n",
      "Expected: 1.0\n",
      "Got: 0.0\n"
     ]
    }
   ],
   "source": [
    "wrong = 0\n",
    "for i in range(len(X_test)):\n",
    "    if test_preds[i][0] != y_test[i].item():\n",
    "        print(train_dataset['text'][i])\n",
    "        print(X_test[i])\n",
    "        print(\"Expected: {}\".format(y_test[i].item()))\n",
    "        print(\"Got: {}\".format(test_preds[i][0]))\n",
    "        wrong += 1\n",
    "        if wrong == 2:\n",
    "            break"
   ]
  },
  {
   "attachments": {},
   "cell_type": "markdown",
   "metadata": {},
   "source": [
    "Dans les 2 cas notre classifier a predit une reponse negative a la place d'une reponse positive.\n",
    "Cela est certainement du au fait que le nombre de mots negatifs est superier au nombre de mots positifs dans les deux commentaires car ce sont les caracteristiques qui pesent le plus sur la decision finale.\n",
    "Pour resoudre ce genre de probleme il faudrait ajouter d'autre features pertinente pour rendre la prise de decison plus \"heterogene\" et donc eviter que ca ne soit que 2 poids qui influent sur la decision finale."
   ]
  }
 ],
 "metadata": {
  "kernelspec": {
   "display_name": "Python 3",
   "language": "python",
   "name": "python3"
  },
  "language_info": {
   "codemirror_mode": {
    "name": "ipython",
    "version": 3
   },
   "file_extension": ".py",
   "mimetype": "text/x-python",
   "name": "python",
   "nbconvert_exporter": "python",
   "pygments_lexer": "ipython3",
   "version": "3.11.2"
  },
  "orig_nbformat": 4,
  "vscode": {
   "interpreter": {
    "hash": "b524cf1293f3167136801e9db5e83cc6e2293400dbc55273a18116b55af0a153"
   }
  }
 },
 "nbformat": 4,
 "nbformat_minor": 2
}
