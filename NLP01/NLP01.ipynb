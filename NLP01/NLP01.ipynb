{
 "cells": [
  {
   "cell_type": "code",
   "execution_count": 2,
   "metadata": {},
   "outputs": [
    {
     "name": "stderr",
     "output_type": "stream",
     "text": [
      "C:\\Users\\theot\\AppData\\Local\\Packages\\PythonSoftwareFoundation.Python.3.11_qbz5n2kfra8p0\\LocalCache\\local-packages\\Python311\\site-packages\\tqdm\\auto.py:21: TqdmWarning: IProgress not found. Please update jupyter and ipywidgets. See https://ipywidgets.readthedocs.io/en/stable/user_install.html\n",
      "  from .autonotebook import tqdm as notebook_tqdm\n"
     ]
    }
   ],
   "source": [
    "from datasets import load_dataset_builder\n",
    "import datasets\n",
    "\n",
    "ds_builder = load_dataset_builder(\"imdb\")"
   ]
  },
  {
   "attachments": {},
   "cell_type": "markdown",
   "metadata": {},
   "source": [
    "The Dataset\n",
    "\n",
    "How many split does the dataset has ?"
   ]
  },
  {
   "cell_type": "code",
   "execution_count": 7,
   "metadata": {},
   "outputs": [
    {
     "name": "stdout",
     "output_type": "stream",
     "text": [
      "The data set has 3 splits !\n"
     ]
    }
   ],
   "source": [
    "nb_splits = len(ds_builder.info.splits)\n",
    "print(\"The data set has {} splits !\".format(nb_splits))"
   ]
  },
  {
   "attachments": {},
   "cell_type": "markdown",
   "metadata": {},
   "source": [
    "How big are these splits ?"
   ]
  },
  {
   "cell_type": "code",
   "execution_count": 9,
   "metadata": {},
   "outputs": [
    {
     "data": {
      "text/plain": [
       "{'train': SplitInfo(name='train', num_bytes=33432823, num_examples=25000, shard_lengths=None, dataset_name='imdb'),\n",
       " 'test': SplitInfo(name='test', num_bytes=32650685, num_examples=25000, shard_lengths=None, dataset_name='imdb'),\n",
       " 'unsupervised': SplitInfo(name='unsupervised', num_bytes=67106794, num_examples=50000, shard_lengths=None, dataset_name='imdb')}"
      ]
     },
     "execution_count": 9,
     "metadata": {},
     "output_type": "execute_result"
    }
   ],
   "source": [
    "ds_builder.info.splits"
   ]
  },
  {
   "attachments": {},
   "cell_type": "markdown",
   "metadata": {},
   "source": [
    "The size of train split is 25000\n",
    "The size of test split is 25000\n",
    "The size of unsupervised split is 50000"
   ]
  },
  {
   "attachments": {},
   "cell_type": "markdown",
   "metadata": {},
   "source": [
    "What is the proportion of each class on the supervised splits ?"
   ]
  },
  {
   "cell_type": "code",
   "execution_count": 28,
   "metadata": {},
   "outputs": [
    {
     "name": "stderr",
     "output_type": "stream",
     "text": [
      "Found cached dataset imdb (C:/Users/theot/.cache/huggingface/datasets/imdb/plain_text/1.0.0/d613c88cf8fa3bab83b4ded3713f1f74830d1100e171db75bbddb80b3345c9c0)\n",
      "100%|██████████| 3/3 [00:00<00:00, 81.32it/s]"
     ]
    },
    {
     "name": "stdout",
     "output_type": "stream",
     "text": [
      "{'text': Value(dtype='string', id=None), 'label': ClassLabel(names=['neg', 'pos'], id=None)}\n",
      "{'text': Value(dtype='string', id=None), 'label': ClassLabel(names=['neg', 'pos'], id=None)}\n",
      "Train size: 25000 - Train pos: 12500 - Train neg: 12500\n",
      "Test size: 25000 - Test pos: 12500 - Test neg: 12500\n"
     ]
    },
    {
     "name": "stderr",
     "output_type": "stream",
     "text": [
      "\n"
     ]
    }
   ],
   "source": [
    "dataset = datasets.load_dataset('imdb')\n",
    "\n",
    "train_dataset = dataset['train']\n",
    "test_dataset = dataset['test']\n",
    "\n",
    "train_size = len(train_dataset)\n",
    "test_size = len(test_dataset)\n",
    "\n",
    "train_pos = sum(train_dataset['label'])\n",
    "train_neg = train_size - train_pos\n",
    "test_pos = sum(test_dataset['label'])\n",
    "test_neg = test_size - test_pos\n",
    "\n",
    "# Print the results\n",
    "print(train_dataset.features)\n",
    "print(test_dataset.features)\n",
    "print('Train size: {} - Train pos: {} - Train neg: {}'.format(train_size, train_pos, train_neg))\n",
    "print('Test size: {} - Test pos: {} - Test neg: {}'.format(test_size, test_pos, test_neg))\n"
   ]
  },
  {
   "attachments": {},
   "cell_type": "markdown",
   "metadata": {},
   "source": [
    "As we can see the dataset contains the column \"text\" (that contains string) and the colums \"label\" (that contains class \"neg\" or \"pos\") that indicate if it's a positive or a negative comment\n",
    "\n",
    "Train split contains 12500 pos (50%) and 12500 neg (50%)\n",
    "Test split contains 12500 pos (50%) and 12500 neg (50%)"
   ]
  },
  {
   "attachments": {},
   "cell_type": "markdown",
   "metadata": {},
   "source": [
    "NAIVE BAYES CLASSIFIER\n",
    "Implement your own naive Bayes classifier (the pseudo code can be found in the slides or the book reference) or use one provided by scikit-learn combined with a CountVectorizer."
   ]
  },
  {
   "attachments": {},
   "cell_type": "markdown",
   "metadata": {},
   "source": [
    "Lower case the text and replace punctuation with space"
   ]
  },
  {
   "cell_type": "code",
   "execution_count": 12,
   "metadata": {},
   "outputs": [
    {
     "name": "stdout",
     "output_type": "stream",
     "text": [
      "I rented I AM CURIOUS-YELLOW from my video store because of all the controversy that surrounded it when it was first released in 1967. I also heard that at first it was seized by U.S. customs if it ever tried to enter this country, therefore being a fan of films considered \"controversial\" I really had to see this for myself.<br /><br />The plot is centered around a young Swedish drama student named Lena who wants to learn everything she can about life. In particular she wants to focus her attentions to making some sort of documentary on what the average Swede thought about certain political issues such as the Vietnam War and race issues in the United States. In between asking politicians and ordinary denizens of Stockholm about their opinions on politics, she has sex with her drama teacher, classmates, and married men.<br /><br />What kills me about I AM CURIOUS-YELLOW is that 40 years ago, this was considered pornographic. Really, the sex and nudity scenes are few and far between, even then it's not shot like some cheaply made porno. While my countrymen mind find it shocking, in reality sex and nudity are a major staple in Swedish cinema. Even Ingmar Bergman, arguably their answer to good old boy John Ford, had sex scenes in his films.<br /><br />I do commend the filmmakers for the fact that any sex shown in the film is shown for artistic purposes rather than just to shock people and make money to be shown in pornographic theaters in America. I AM CURIOUS-YELLOW is a good film for anyone wanting to study the meat and potatoes (no pun intended) of Swedish cinema. But really, this film doesn't have much of a plot.\n",
      "i rented i am curious yellow from my video store because of all the controversy that surrounded it when it was first released in 1967  i also heard that at first it was seized by u s  customs if it ever tried to enter this country  therefore being a fan of films considered  controversial  i really had to see this for myself the plot is centered around a young swedish drama student named lena who wants to learn everything she can about life  in particular she wants to focus her attentions to making some sort of documentary on what the average swede thought about certain political issues such as the vietnam war and race issues in the united states  in between asking politicians and ordinary denizens of stockholm about their opinions on politics  she has sex with her drama teacher  classmates  and married men what kills me about i am curious yellow is that 40 years ago  this was considered pornographic  really  the sex and nudity scenes are few and far between  even then it s not shot like some cheaply made porno  while my countrymen mind find it shocking  in reality sex and nudity are a major staple in swedish cinema  even ingmar bergman  arguably their answer to good old boy john ford  had sex scenes in his films i do commend the filmmakers for the fact that any sex shown in the film is shown for artistic purposes rather than just to shock people and make money to be shown in pornographic theaters in america  i am curious yellow is a good film for anyone wanting to study the meat and potatoes  no pun intended  of swedish cinema  but really  this film doesn t have much of a plot \n",
      "\"I Am Curious: Yellow\" is a risible and pretentious steaming pile. It doesn't matter what one's political views are because this film can hardly be taken seriously on any level. As for the claim that frontal male nudity is an automatic NC-17, that isn't true. I've seen R-rated films with male nudity. Granted, they only offer some fleeting views, but where are the R-rated films with gaping vulvas and flapping labia? Nowhere, because they don't exist. The same goes for those crappy cable shows: schlongs swinging in the breeze but not a clitoris in sight. And those pretentious indie movies like The Brown Bunny, in which we're treated to the site of Vincent Gallo's throbbing johnson, but not a trace of pink visible on Chloe Sevigny. Before crying (or implying) \"double-standard\" in matters of nudity, the mentally obtuse should take into account one unavoidably obvious anatomical difference between men and women: there are no genitals on display when actresses appears nude, and the same cannot be said for a man. In fact, you generally won't see female genitals in an American film in anything short of porn or explicit erotica. This alleged double-standard is less a double standard than an admittedly depressing ability to come to terms culturally with the insides of women's bodies.\n",
      " i am curious  yellow  is a risible and pretentious steaming pile  it doesn t matter what one s political views are because this film can hardly be taken seriously on any level  as for the claim that frontal male nudity is an automatic nc 17  that isn t true  i ve seen r rated films with male nudity  granted  they only offer some fleeting views  but where are the r rated films with gaping vulvas and flapping labia  nowhere  because they don t exist  the same goes for those crappy cable shows  schlongs swinging in the breeze but not a clitoris in sight  and those pretentious indie movies like the brown bunny  in which we re treated to the site of vincent gallo s throbbing johnson  but not a trace of pink visible on chloe sevigny  before crying  or implying   double standard  in matters of nudity  the mentally obtuse should take into account one unavoidably obvious anatomical difference between men and women  there are no genitals on display when actresses appears nude  and the same cannot be said for a man  in fact  you generally won t see female genitals in an american film in anything short of porn or explicit erotica  this alleged double standard is less a double standard than an admittedly depressing ability to come to terms culturally with the insides of women s bodies \n",
      "If only to avoid making this type of film in the future. This film is interesting as an experiment but tells no cogent story.<br /><br />One might feel virtuous for sitting thru it because it touches on so many IMPORTANT issues but it does so without any discernable motive. The viewer comes away with no new perspectives (unless one comes up with one while one's mind wanders, as it will invariably do during this pointless film).<br /><br />One might better spend one's time staring out a window at a tree growing.<br /><br />\n",
      "if only to avoid making this type of film in the future  this film is interesting as an experiment but tells no cogent story one might feel virtuous for sitting thru it because it touches on so many important issues but it does so without any discernable motive  the viewer comes away with no new perspectives  unless one comes up with one while one s mind wanders  as it will invariably do during this pointless film  one might better spend one s time staring out a window at a tree growing \n",
      "This film was probably inspired by Godard's Masculin, féminin and I urge you to see that film instead.<br /><br />The film has two strong elements and those are, (1) the realistic acting (2) the impressive, undeservedly good, photo. Apart from that, what strikes me most is the endless stream of silliness. Lena Nyman has to be most annoying actress in the world. She acts so stupid and with all the nudity in this film,...it's unattractive. Comparing to Godard's film, intellectuality has been replaced with stupidity. Without going too far on this subject, I would say that follows from the difference in ideals between the French and the Swedish society.<br /><br />A movie of its time, and place. 2/10.\n",
      "this film was probably inspired by godard s masculin  féminin and i urge you to see that film instead the film has two strong elements and those are   1  the realistic acting  2  the impressive  undeservedly good  photo  apart from that  what strikes me most is the endless stream of silliness  lena nyman has to be most annoying actress in the world  she acts so stupid and with all the nudity in this film    it s unattractive  comparing to godard s film  intellectuality has been replaced with stupidity  without going too far on this subject  i would say that follows from the difference in ideals between the french and the swedish society a movie of its time  and place  2 10 \n",
      "Oh, brother...after hearing about this ridiculous film for umpteen years all I can think of is that old Peggy Lee song..<br /><br />\"Is that all there is??\" ...I was just an early teen when this smoked fish hit the U.S. I was too young to get in the theater (although I did manage to sneak into \"Goodbye Columbus\"). Then a screening at a local film museum beckoned - Finally I could see this film, except now I was as old as my parents were when they schlepped to see it!!<br /><br />The ONLY reason this film was not condemned to the anonymous sands of time was because of the obscenity case sparked by its U.S. release. MILLIONS of people flocked to this stinker, thinking they were going to see a sex film...Instead, they got lots of closeups of gnarly, repulsive Swedes, on-street interviews in bland shopping malls, asinie political pretension...and feeble who-cares simulated sex scenes with saggy, pale actors.<br /><br />Cultural icon, holy grail, historic artifact..whatever this thing was, shred it, burn it, then stuff the ashes in a lead box!<br /><br />Elite esthetes still scrape to find value in its boring pseudo revolutionary political spewings..But if it weren't for the censorship scandal, it would have been ignored, then forgotten.<br /><br />Instead, the \"I Am Blank, Blank\" rhythymed title was repeated endlessly for years as a titilation for porno films (I am Curious, Lavender - for gay films, I Am Curious, Black - for blaxploitation films, etc..) and every ten years or so the thing rises from the dead, to be viewed by a new generation of suckers who want to see that \"naughty sex film\" that \"revolutionized the film industry\"...<br /><br />Yeesh, avoid like the plague..Or if you MUST see it - rent the video and fast forward to the \"dirty\" parts, just to get it over with.<br /><br />\n",
      "oh  brother   after hearing about this ridiculous film for umpteen years all i can think of is that old peggy lee song   is that all there is       i was just an early teen when this smoked fish hit the u s  i was too young to get in the theater  although i did manage to sneak into  goodbye columbus    then a screening at a local film museum beckoned   finally i could see this film  except now i was as old as my parents were when they schlepped to see it  the only reason this film was not condemned to the anonymous sands of time was because of the obscenity case sparked by its u s  release  millions of people flocked to this stinker  thinking they were going to see a sex film   instead  they got lots of closeups of gnarly  repulsive swedes  on street interviews in bland shopping malls  asinie political pretension   and feeble who cares simulated sex scenes with saggy  pale actors cultural icon  holy grail  historic artifact  whatever this thing was  shred it  burn it  then stuff the ashes in a lead box elite esthetes still scrape to find value in its boring pseudo revolutionary political spewings  but if it weren t for the censorship scandal  it would have been ignored  then forgotten instead  the  i am blank  blank  rhythymed title was repeated endlessly for years as a titilation for porno films  i am curious  lavender   for gay films  i am curious  black   for blaxploitation films  etc    and every ten years or so the thing rises from the dead  to be viewed by a new generation of suckers who want to see that  naughty sex film  that  revolutionized the film industry    yeesh  avoid like the plague  or if you must see it   rent the video and fast forward to the  dirty  parts  just to get it over with \n",
      "I would put this at the top of my list of films in the category of unwatchable trash! There are films that are bad, but the worst kind are the ones that are unwatchable but you are suppose to like them because they are supposed to be good for you! The sex sequences, so shocking in its day, couldn't even arouse a rabbit. The so called controversial politics is strictly high school sophomore amateur night Marxism. The film is self-consciously arty in the worst sense of the term. The photography is in a harsh grainy black and white. Some scenes are out of focus or taken from the wrong angle. Even the sound is bad! And some people call this art?<br /><br />\n",
      "i would put this at the top of my list of films in the category of unwatchable trash  there are films that are bad  but the worst kind are the ones that are unwatchable but you are suppose to like them because they are supposed to be good for you  the sex sequences  so shocking in its day  couldn t even arouse a rabbit  the so called controversial politics is strictly high school sophomore amateur night marxism  the film is self consciously arty in the worst sense of the term  the photography is in a harsh grainy black and white  some scenes are out of focus or taken from the wrong angle  even the sound is bad  and some people call this art \n",
      "I love sci-fi and am willing to put up with a lot. Sci-fi movies/TV are usually underfunded, under-appreciated and misunderstood. I tried to like this, I really did, but it is to good TV sci-fi as Babylon 5 is to Star Trek (the original). Silly prosthetics, cheap cardboard sets, stilted dialogues, CG that doesn't match the background, and painfully one-dimensional characters cannot be overcome with a 'sci-fi' setting. (I'm sure there are those of you out there who think Babylon 5 is good sci-fi TV. It's not. It's clichéd and uninspiring.) While US viewers might like emotion and character development, sci-fi is a genre that does not take itself seriously (cf. Star Trek). It may treat important issues, yet not as a serious philosophy. It's really difficult to care about the characters here as they are not simply foolish, just missing a spark of life. Their actions and reactions are wooden and predictable, often painful to watch. The makers of Earth KNOW it's rubbish as they have to always say \"Gene Roddenberry's Earth...\" otherwise people would not continue watching. Roddenberry's ashes must be turning in their orbit as this dull, cheap, poorly edited (watching it without advert breaks really brings this home) trudging Trabant of a show lumbers into space. Spoiler. So, kill off a main character. And then bring him back as another actor. Jeeez! Dallas all over again.\n",
      "i love sci fi and am willing to put up with a lot  sci fi movies tv are usually underfunded  under appreciated and misunderstood  i tried to like this  i really did  but it is to good tv sci fi as babylon 5 is to star trek  the original   silly prosthetics  cheap cardboard sets  stilted dialogues  cg that doesn t match the background  and painfully one dimensional characters cannot be overcome with a  sci fi  setting   i m sure there are those of you out there who think babylon 5 is good sci fi tv  it s not  it s clichéd and uninspiring   while us viewers might like emotion and character development  sci fi is a genre that does not take itself seriously  cf  star trek   it may treat important issues  yet not as a serious philosophy  it s really difficult to care about the characters here as they are not simply foolish  just missing a spark of life  their actions and reactions are wooden and predictable  often painful to watch  the makers of earth know it s rubbish as they have to always say  gene roddenberry s earth     otherwise people would not continue watching  roddenberry s ashes must be turning in their orbit as this dull  cheap  poorly edited  watching it without advert breaks really brings this home  trudging trabant of a show lumbers into space  spoiler  so  kill off a main character  and then bring him back as another actor  jeeez  dallas all over again \n",
      "Worth the entertainment value of a rental, especially if you like action movies. This one features the usual car chases, fights with the great Van Damme kick style, shooting battles with the 40 shell load shotgun, and even terrorist style bombs. All of this is entertaining and competently handled but there is nothing that really blows you away if you've seen your share before.<br /><br />The plot is made interesting by the inclusion of a rabbit, which is clever but hardly profound. Many of the characters are heavily stereotyped -- the angry veterans, the terrified illegal aliens, the crooked cops, the indifferent feds, the bitchy tough lady station head, the crooked politician, the fat federale who looks like he was typecast as the Mexican in a Hollywood movie from the 1940s. All passably acted but again nothing special.<br /><br />I thought the main villains were pretty well done and fairly well acted. By the end of the movie you certainly knew who the good guys were and weren't. There was an emotional lift as the really bad ones got their just deserts. Very simplistic, but then you weren't expecting Hamlet, right? The only thing I found really annoying was the constant cuts to VDs daughter during the last fight scene.<br /><br />Not bad. Not good. Passable 4.\n",
      "worth the entertainment value of a rental  especially if you like action movies  this one features the usual car chases  fights with the great van damme kick style  shooting battles with the 40 shell load shotgun  and even terrorist style bombs  all of this is entertaining and competently handled but there is nothing that really blows you away if you ve seen your share before the plot is made interesting by the inclusion of a rabbit  which is clever but hardly profound  many of the characters are heavily stereotyped    the angry veterans  the terrified illegal aliens  the crooked cops  the indifferent feds  the bitchy tough lady station head  the crooked politician  the fat federale who looks like he was typecast as the mexican in a hollywood movie from the 1940s  all passably acted but again nothing special i thought the main villains were pretty well done and fairly well acted  by the end of the movie you certainly knew who the good guys were and weren t  there was an emotional lift as the really bad ones got their just deserts  very simplistic  but then you weren t expecting hamlet  right  the only thing i found really annoying was the constant cuts to vds daughter during the last fight scene not bad  not good  passable 4 \n",
      "its a totally average film with a few semi-alright action sequences that make the plot seem a little better and remind the viewer of the classic van dam films. parts of the plot don't make sense and seem to be added in to use up time. the end plot is that of a very basic type that doesn't leave the viewer guessing and any twists are obvious from the beginning. the end scene with the flask backs don't make sense as they are added in and seem to have little relevance to the history of van dam's character. not really worth watching again, bit disappointed in the end production, even though it is apparent it was shot on a low budget certain shots and sections in the film are of poor directed quality\n",
      "its a totally average film with a few semi alright action sequences that make the plot seem a little better and remind the viewer of the classic van dam films  parts of the plot don t make sense and seem to be added in to use up time  the end plot is that of a very basic type that doesn t leave the viewer guessing and any twists are obvious from the beginning  the end scene with the flask backs don t make sense as they are added in and seem to have little relevance to the history of van dam s character  not really worth watching again  bit disappointed in the end production  even though it is apparent it was shot on a low budget certain shots and sections in the film are of poor directed quality\n",
      "STAR RATING: ***** Saturday Night **** Friday Night *** Friday Morning ** Sunday Night * Monday Morning <br /><br />Former New Orleans homicide cop Jack Robideaux (Jean Claude Van Damme) is re-assigned to Columbus, a small but violent town in Mexico to help the police there with their efforts to stop a major heroin smuggling operation into their town. The culprits turn out to be ex-military, lead by former commander Benjamin Meyers (Stephen Lord, otherwise known as Jase from East Enders) who is using a special method he learned in Afghanistan to fight off his opponents. But Jack has a more personal reason for taking him down, that draws the two men into an explosive final showdown where only one will walk away alive.<br /><br />After Until Death, Van Damme appeared to be on a high, showing he could make the best straight to video films in the action market. While that was a far more drama oriented film, with The Shepherd he has returned to the high-kicking, no brainer action that first made him famous and has sadly produced his worst film since Derailed. It's nowhere near as bad as that film, but what I said still stands.<br /><br />A dull, predictable film, with very little in the way of any exciting action. What little there is mainly consists of some limp fight scenes, trying to look cool and trendy with some cheap slo-mo/sped up effects added to them that sadly instead make them look more desperate. Being a Mexican set film, director Isaac Florentine has tried to give the film a Robert Rodriguez/Desperado sort of feel, but this only adds to the desperation.<br /><br />VD gives a particularly uninspired performance and given he's never been a Robert De Niro sort of actor, that can't be good. As the villain, Lord shouldn't expect to leave the beeb anytime soon. He gets little dialogue at the beginning as he struggles to muster an American accent but gets mysteriously better towards the end. All the supporting cast are equally bland, and do nothing to raise the films spirits at all.<br /><br />This is one shepherd that's strayed right from the flock. *\n",
      "star rating        saturday night      friday night     friday morning    sunday night   monday morning former new orleans homicide cop jack robideaux  jean claude van damme  is re assigned to columbus  a small but violent town in mexico to help the police there with their efforts to stop a major heroin smuggling operation into their town  the culprits turn out to be ex military  lead by former commander benjamin meyers  stephen lord  otherwise known as jase from east enders  who is using a special method he learned in afghanistan to fight off his opponents  but jack has a more personal reason for taking him down  that draws the two men into an explosive final showdown where only one will walk away alive after until death  van damme appeared to be on a high  showing he could make the best straight to video films in the action market  while that was a far more drama oriented film  with the shepherd he has returned to the high kicking  no brainer action that first made him famous and has sadly produced his worst film since derailed  it s nowhere near as bad as that film  but what i said still stands a dull  predictable film  with very little in the way of any exciting action  what little there is mainly consists of some limp fight scenes  trying to look cool and trendy with some cheap slo mo sped up effects added to them that sadly instead make them look more desperate  being a mexican set film  director isaac florentine has tried to give the film a robert rodriguez desperado sort of feel  but this only adds to the desperation vd gives a particularly uninspired performance and given he s never been a robert de niro sort of actor  that can t be good  as the villain  lord shouldn t expect to leave the beeb anytime soon  he gets little dialogue at the beginning as he struggles to muster an american accent but gets mysteriously better towards the end  all the supporting cast are equally bland  and do nothing to raise the films spirits at all this is one shepherd that s strayed right from the flock   \n",
      "First off let me say, If you haven't enjoyed a Van Damme movie since bloodsport, you probably will not like this movie. Most of these movies may not have the best plots or best actors but I enjoy these kinds of movies for what they are. This movie is much better than any of the movies the other action guys (Segal and Dolph) have thought about putting out the past few years. Van Damme is good in the movie, the movie is only worth watching to Van Damme fans. It is not as good as Wake of Death (which i highly recommend to anyone of likes Van Damme) or In hell but, in my opinion it's worth watching. It has the same type of feel to it as Nowhere to Run. Good fun stuff!\n",
      "first off let me say  if you haven t enjoyed a van damme movie since bloodsport  you probably will not like this movie  most of these movies may not have the best plots or best actors but i enjoy these kinds of movies for what they are  this movie is much better than any of the movies the other action guys  segal and dolph  have thought about putting out the past few years  van damme is good in the movie  the movie is only worth watching to van damme fans  it is not as good as wake of death  which i highly recommend to anyone of likes van damme  or in hell but  in my opinion it s worth watching  it has the same type of feel to it as nowhere to run  good fun stuff \n",
      "I had high hopes for this one until they changed the name to 'The Shepherd : Border Patrol, the lamest movie name ever, what was wrong with just 'The Shepherd'. This is a by the numbers action flick that tips its hat at many classic Van Damme films. There is a nice bit of action in a bar which reminded me of hard target and universal soldier but directed with no intensity or flair which is a shame. There is one great line about 'being p*ss drunk and carrying a rabbit' and some OK action scenes let down by the cheapness of it all. A lot of the times the dialogue doesn't match the characters mouth and the stunt men fall down dead a split second before even being shot. The end fight is one of the better Van Damme fights except the Director tries to go a bit too John Woo and fails also introducing flashbacks which no one really cares about just gets in the way of the action which is the whole point of a van Damme film.<br /><br />Not good, not bad, just average generic action.\n",
      "i had high hopes for this one until they changed the name to  the shepherd   border patrol  the lamest movie name ever  what was wrong with just  the shepherd   this is a by the numbers action flick that tips its hat at many classic van damme films  there is a nice bit of action in a bar which reminded me of hard target and universal soldier but directed with no intensity or flair which is a shame  there is one great line about  being p ss drunk and carrying a rabbit  and some ok action scenes let down by the cheapness of it all  a lot of the times the dialogue doesn t match the characters mouth and the stunt men fall down dead a split second before even being shot  the end fight is one of the better van damme fights except the director tries to go a bit too john woo and fails also introducing flashbacks which no one really cares about just gets in the way of the action which is the whole point of a van damme film not good  not bad  just average generic action \n",
      "This is just a precious little diamond. The play, the script are excellent. I cant compare this movie with anything else, maybe except the movie \"Leon\" wonderfully played by Jean Reno and Natalie Portman. But... What can I say about this one? This is the best movie Anne Parillaud has ever played in (See please \"Frankie Starlight\", she's speaking English there) to see what I mean. The story of young punk girl Nikita, taken into the depraved world of the secret government forces has been exceptionally over used by Americans. Never mind the \"Point of no return\" and especially the \"La femme Nikita\" TV series. They cannot compare the original believe me! Trash these videos. Buy this one, do not rent it, BUY it. BTW beware of the subtitles of the LA company which \"translate\" the US release. What a disgrace! If you cant understand French, get a dubbed version. But you'll regret later :)\n",
      "this is just a precious little diamond  the play  the script are excellent  i cant compare this movie with anything else  maybe except the movie  leon  wonderfully played by jean reno and natalie portman  but    what can i say about this one  this is the best movie anne parillaud has ever played in  see please  frankie starlight   she s speaking english there  to see what i mean  the story of young punk girl nikita  taken into the depraved world of the secret government forces has been exceptionally over used by americans  never mind the  point of no return  and especially the  la femme nikita  tv series  they cannot compare the original believe me  trash these videos  buy this one  do not rent it  buy it  btw beware of the subtitles of the la company which  translate  the us release  what a disgrace  if you cant understand french  get a dubbed version  but you ll regret later   \n",
      "When I say this is my favourite film of all time, that comment is not to be taken lightly. I probably watch far too many films than is healthy for me, and have loved quite a few of them. I first saw \"La Femme Nikita\" nearly ten years ago, and it still manages to be my absolute favourite. Why?<br /><br />This is more than an incredibly stylish and sexy thriller. Luc Besson's great flair for impeccable direction, fashion, and appropriate usage of music makes this a very watchable film. But it is Anne Parillaud's perfect rendering of a complex character who transforms from a heartless killer into a compassionate, vibrant young woman that makes this film beautiful. I can't keep my eyes off of her when she is on screen.<br /><br />I have seen several of Luc Besson's films including \"Subway\", \"The Professional\", and the irritating \"Fifth Element\", and \"Nikita\" is without a doubt, far superior to any of these. Although this film has tragic elements, it is ultimately extremely hopeful. It is the story of a person who is cruel and merciless, who ultimately comes to realize her own humanity and her own personal power. That, to me is extremely inspiring. If there is hope for Nikita, there is hope for all of us.\n",
      "when i say this is my favourite film of all time  that comment is not to be taken lightly  i probably watch far too many films than is healthy for me  and have loved quite a few of them  i first saw  la femme nikita  nearly ten years ago  and it still manages to be my absolute favourite  why this is more than an incredibly stylish and sexy thriller  luc besson s great flair for impeccable direction  fashion  and appropriate usage of music makes this a very watchable film  but it is anne parillaud s perfect rendering of a complex character who transforms from a heartless killer into a compassionate  vibrant young woman that makes this film beautiful  i can t keep my eyes off of her when she is on screen i have seen several of luc besson s films including  subway    the professional   and the irritating  fifth element   and  nikita  is without a doubt  far superior to any of these  although this film has tragic elements  it is ultimately extremely hopeful  it is the story of a person who is cruel and merciless  who ultimately comes to realize her own humanity and her own personal power  that  to me is extremely inspiring  if there is hope for nikita  there is hope for all of us \n",
      "I saw this movie because I am a huge fan of the TV series of the same name starring Roy Dupuis and Pet Wilson. The movie was really good and I saw how the TV show is based on the movie. A few episodes of the TV series came directly from the movie and their similarity was amazing. To keep things short, any fan of the movie has to watch the series and any fan of the series must see the original Nikita.\n",
      "i saw this movie because i am a huge fan of the tv series of the same name starring roy dupuis and pet wilson  the movie was really good and i saw how the tv show is based on the movie  a few episodes of the tv series came directly from the movie and their similarity was amazing  to keep things short  any fan of the movie has to watch the series and any fan of the series must see the original nikita \n",
      "Being that the only foreign films I usually like star a Japanese person in a rubber suit who crushes little tiny buildings and tanks, I had high hopes for this movie. I thought that this was a movie that wouldn't put me to sleep. WRONG! Starts off with a bang, okay, now she's in training, alright, she's an assassin, I'm still with you, oh, now she's having this moral dilemma and she can't decide if she loves her boyfriend or her controller, zzzzz.... Oh well, back to Gamera!\n",
      "being that the only foreign films i usually like star a japanese person in a rubber suit who crushes little tiny buildings and tanks  i had high hopes for this movie  i thought that this was a movie that wouldn t put me to sleep  wrong  starts off with a bang  okay  now she s in training  alright  she s an assassin  i m still with you  oh  now she s having this moral dilemma and she can t decide if she loves her boyfriend or her controller  zzzzz     oh well  back to gamera \n",
      "After seeing Point of No Return (a great movie) and being told that the original was better, I was certainly thrilled to see that one of the indie film channels was running La Femme Nikita. Then I saw the movie. Ouch! This was a major let-down.<br /><br />Nikita herself reminds me of Jar Jar Binks more than any other character I've seen recently. She comes across entirely as comic relief. The movie simply has nothing to recommend it besides the core concept of an evil, inhuman character paradoxically learning to be human while training as an assassin, and that concept failed miserably in Nikita due to the poor writing of the title role.\n",
      "after seeing point of no return  a great movie  and being told that the original was better  i was certainly thrilled to see that one of the indie film channels was running la femme nikita  then i saw the movie  ouch  this was a major let down nikita herself reminds me of jar jar binks more than any other character i ve seen recently  she comes across entirely as comic relief  the movie simply has nothing to recommend it besides the core concept of an evil  inhuman character paradoxically learning to be human while training as an assassin  and that concept failed miserably in nikita due to the poor writing of the title role \n",
      "Stylish thriller? Hardly! This French action film from director Luc Besson is more confused and unsure about itself than anything else I have seen recently.<br /><br />The opening action sequence shows some promise, and the following action sequences are good. However they are sadly too few and far between. The drama is dull and erratic, and the characters are generally unlikeable. Anne Parillaud and the support cast are unable to involve the audience emotionally.<br /><br />\"La Femme Nikita\" ends up more like a try hard, B-grade action thriller. Very average!<br /><br />Saturday, April 28, 1991 - Balwyn Cinema\n",
      "stylish thriller  hardly  this french action film from director luc besson is more confused and unsure about itself than anything else i have seen recently the opening action sequence shows some promise  and the following action sequences are good  however they are sadly too few and far between  the drama is dull and erratic  and the characters are generally unlikeable  anne parillaud and the support cast are unable to involve the audience emotionally  la femme nikita  ends up more like a try hard  b grade action thriller  very average saturday  april 28  1991   balwyn cinema\n"
     ]
    }
   ],
   "source": [
    "from string import punctuation\n",
    "\n",
    "for split in dataset.keys():\n",
    "    i = 0\n",
    "    for text in dataset[split]['text']:\n",
    "        print(text)\n",
    "        text = text.lower()\n",
    "        # remove <br /> tags\n",
    "        text = text.replace('<br />', '')\n",
    "        # remove punctuation\n",
    "        text = ''.join([c if c not in punctuation else ' ' for c in text])\n",
    "        print(text)\n",
    "        i += 1\n",
    "        if i > 5:\n",
    "            break\n"
   ]
  },
  {
   "attachments": {},
   "cell_type": "markdown",
   "metadata": {},
   "source": [
    "Implement your own naive Bayes classifier from scratch. The pseudo code can be found in the slides or the book reference."
   ]
  },
  {
   "cell_type": "code",
   "execution_count": 21,
   "metadata": {},
   "outputs": [
    {
     "name": "stdout",
     "output_type": "stream",
     "text": [
      "12500\n",
      "ClassLabel(names=['neg', 'pos'], id=None)\n"
     ]
    }
   ],
   "source": [
    "import numpy as np\n",
    "\n",
    "def get_all_words(dataset):\n",
    "    all_words = []\n",
    "    for text in dataset['text']:\n",
    "        all_words += text.split()\n",
    "    return all_words\n",
    "\n",
    "def bigdoc(dataset, feature):\n",
    "    bigdoc = []\n",
    "    for text in dataset[feature]:\n",
    "        bigdoc += text\n",
    "    return bigdoc\n",
    "\n",
    "\n",
    "def train_naive_bayes(dataset, features):\n",
    "    for feature in features:\n",
    "        ndoc = len(dataset)\n",
    "        npos = sum(dataset[feature])\n",
    "        logprior = np.log(npos/ndoc)\n",
    "        words = get_all_words(dataset)\n",
    "        bd = bigdoc(dataset, feature)\n",
    "        for word in words:\n",
    "            #count occurence of word in positive reviews\n",
    "            count = bd.count(word)\n",
    "            loglikelihood = np.log((count + 1)/(npos + 1))\n",
    "    return logprior, loglikelihood, words\n",
    "\n",
    "train_dataset = dataset['train']\n",
    "print(sum(train_dataset[\"label\"]))\n",
    "print(train_dataset.features[\"label\"])\n",
    "#train_naive_bayes(train_dataset, [\"\"])\n",
    "\n",
    "    \n",
    "\n",
    "        \n",
    "\n"
   ]
  }
 ],
 "metadata": {
  "kernelspec": {
   "display_name": "Python 3",
   "language": "python",
   "name": "python3"
  },
  "language_info": {
   "codemirror_mode": {
    "name": "ipython",
    "version": 3
   },
   "file_extension": ".py",
   "mimetype": "text/x-python",
   "name": "python",
   "nbconvert_exporter": "python",
   "pygments_lexer": "ipython3",
   "version": "3.11.2"
  },
  "orig_nbformat": 4
 },
 "nbformat": 4,
 "nbformat_minor": 2
}
