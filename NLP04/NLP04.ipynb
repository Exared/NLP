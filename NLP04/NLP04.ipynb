{
 "cells": [
  {
   "cell_type": "code",
   "execution_count": 66,
   "metadata": {},
   "outputs": [],
   "source": [
    "from functools import partial\n",
    "from typing import Callable, Dict, Generator, List, Tuple\n",
    "\n",
    "from datasets import load_dataset\n",
    "import numpy as np\n",
    "from sklearn.utils import shuffle\n",
    "import torch\n",
    "from torch import nn\n",
    "from torchtext.vocab import vocab, Vocab\n",
    "from torchtext.data.utils import get_tokenizer\n",
    "\n",
    "from tqdm.auto import tqdm"
   ]
  },
  {
   "cell_type": "code",
   "execution_count": 67,
   "metadata": {},
   "outputs": [
    {
     "name": "stderr",
     "output_type": "stream",
     "text": [
      "Found cached dataset imdb (C:/Users/theot/.cache/huggingface/datasets/imdb/plain_text/1.0.0/d613c88cf8fa3bab83b4ded3713f1f74830d1100e171db75bbddb80b3345c9c0)\n",
      "100%|██████████| 3/3 [00:00<00:00, 11.24it/s]\n",
      "Loading cached split indices for dataset at C:\\Users\\theot\\.cache\\huggingface\\datasets\\imdb\\plain_text\\1.0.0\\d613c88cf8fa3bab83b4ded3713f1f74830d1100e171db75bbddb80b3345c9c0\\cache-5f37fd0866e4f89f.arrow and C:\\Users\\theot\\.cache\\huggingface\\datasets\\imdb\\plain_text\\1.0.0\\d613c88cf8fa3bab83b4ded3713f1f74830d1100e171db75bbddb80b3345c9c0\\cache-dd5732a0e6ac784c.arrow\n"
     ]
    },
    {
     "data": {
      "text/plain": [
       "((20000, 2), (5000, 2), (25000, 2))"
      ]
     },
     "execution_count": 67,
     "metadata": {},
     "output_type": "execute_result"
    }
   ],
   "source": [
    "dataset = load_dataset(\"imdb\")\n",
    "train_dataset = dataset[\"train\"].train_test_split(\n",
    "    stratify_by_column=\"label\", test_size=0.2, seed=42\n",
    ")\n",
    "test_df = dataset[\"test\"]\n",
    "train_df = train_dataset[\"train\"]\n",
    "valid_df = train_dataset[\"test\"]\n",
    "train_df.shape, valid_df.shape, test_df.shape"
   ]
  },
  {
   "attachments": {},
   "cell_type": "markdown",
   "metadata": {},
   "source": [
    "# Vocabulary"
   ]
  },
  {
   "cell_type": "code",
   "execution_count": 68,
   "metadata": {},
   "outputs": [],
   "source": [
    "from collections import Counter\n",
    "\n",
    "tokenizer = get_tokenizer(\"basic_english\", language=\"en\")\n",
    "counter = Counter()\n",
    "\n",
    "def lowercase_punctuation(text):\n",
    "    newtext = text.lower()\n",
    "    # remove <br /> tags\n",
    "    newtext = newtext.replace('<br />', '')\n",
    "    # remove punctuation\n",
    "    newtext = ''.join([c if c not in \"\\\"#$%&()*+,./:;<=>?@[\\]^_`{|}~\" else ' ' for c in newtext])\n",
    "    return newtext\n",
    "\n",
    "\n",
    "for row in train_df:\n",
    "    counter.update(tokenizer(lowercase_punctuation(row['text'])))\n",
    "\n",
    "# Set the minimum frequency threshold to eliminate noise\n",
    "min_freq = 2\n",
    "\n",
    "# Include special tokens\n",
    "specials = ['<unk>', '<pad>']\n",
    "\n",
    "# Create the vocabulary\n",
    "vocab = vocab(counter, min_freq=min_freq, specials=specials)"
   ]
  },
  {
   "attachments": {},
   "cell_type": "markdown",
   "metadata": {},
   "source": [
    "# Vectorizer"
   ]
  },
  {
   "cell_type": "code",
   "execution_count": 69,
   "metadata": {},
   "outputs": [],
   "source": [
    "def vectorize_text(text: str, vocabulary: Vocab, tokenizer: Callable[[str], List[str]]) -> torch.Tensor:\n",
    "    \"\"\"\n",
    "    Generate a tensor of vocabluary IDs for a given text.\n",
    "    Args:\n",
    "        text: the input text.\n",
    "        vocabulary: a Vocab objects.\n",
    "        tokenizer: a text tokenizer.\n",
    "    Returns:\n",
    "        A tensor of IDs (torch.long).\n",
    "    \"\"\"\n",
    "    text = lowercase_punctuation(text)\n",
    "    tokens = tokenizer(text)\n",
    "    vocab_stoi = vocabulary.get_stoi()\n",
    "    token_ids = []\n",
    "    for token in tokens:\n",
    "        if token in vocab_stoi:\n",
    "            token_ids.append(torch.tensor(vocab_stoi[token]))\n",
    "        else:\n",
    "            token_ids.append(torch.tensor(vocab_stoi['<unk>']))\n",
    "    return torch.stack(token_ids)\n",
    "            \n",
    "text_pipeline = partial(vectorize_text, vocabulary=vocab, tokenizer=tokenizer)\n"
   ]
  },
  {
   "attachments": {},
   "cell_type": "markdown",
   "metadata": {},
   "source": [
    "Petit test : "
   ]
  },
  {
   "cell_type": "code",
   "execution_count": 70,
   "metadata": {},
   "outputs": [
    {
     "data": {
      "text/plain": [
       "tensor([  36, 5526,   11,  273,  665,    8,    0])"
      ]
     },
     "execution_count": 70,
     "metadata": {},
     "output_type": "execute_result"
    }
   ],
   "source": [
    "text_pipeline(\"Some text I am thinking about... ragafqfa\")"
   ]
  },
  {
   "cell_type": "code",
   "execution_count": 71,
   "metadata": {},
   "outputs": [
    {
     "name": "stderr",
     "output_type": "stream",
     "text": [
      "100%|██████████| 20000/20000 [13:20<00:00, 24.99it/s]\n",
      "100%|██████████| 5000/5000 [03:25<00:00, 24.27it/s]\n",
      "100%|██████████| 25000/25000 [18:11<00:00, 22.90it/s]\n"
     ]
    }
   ],
   "source": [
    "X_train = [text_pipeline(text) for text in tqdm(train_df[\"text\"])]\n",
    "y_train = train_df[\"label\"]\n",
    "X_valid = [text_pipeline(text) for text in tqdm(valid_df[\"text\"])]\n",
    "y_valid = valid_df[\"label\"]\n",
    "X_test = [text_pipeline(text) for text in tqdm(test_df[\"text\"])]\n",
    "y_test = test_df[\"label\"]"
   ]
  },
  {
   "attachments": {},
   "cell_type": "markdown",
   "metadata": {},
   "source": [
    "# Data generator"
   ]
  },
  {
   "cell_type": "code",
   "execution_count": 73,
   "metadata": {},
   "outputs": [],
   "source": [
    "def data_generator(\n",
    "    X: List[torch.tensor], y: List[int], pad_id: int, batch_size: int = 32\n",
    ") -> Generator[Tuple[torch.Tensor, torch.Tensor], None, None]:\n",
    "    \"\"\"\n",
    "    Yield batches from given input data and labels.\n",
    "    Args:\n",
    "        X: a list of tensor (input features).\n",
    "        y: the corresponding labels.\n",
    "        pad_id: the padding id.\n",
    "        batch_size: the size of every batch [32].\n",
    "    Returns:\n",
    "        A tuple of tensors (features, labels).\n",
    "    \"\"\"\n",
    "    num_samples = len(X)\n",
    "    num_batches = num_samples // batch_size\n",
    "\n",
    "    # Iterate over each batch\n",
    "    for i in range(num_batches):\n",
    "        start = i * batch_size\n",
    "        end = start + batch_size\n",
    "\n",
    "        # Get the batch data and labels\n",
    "        batch_X = X[start:end]\n",
    "        batch_y = y[start:end]\n",
    "\n",
    "        # Find the length of the longest sequence in this batch\n",
    "        max_length = max([len(tensor) for tensor in batch_X])\n",
    "\n",
    "        # Create a new list to hold the padded sequences\n",
    "        padded_batch_X = []\n",
    "\n",
    "        # Pad each sequence to the length of the longest sequence\n",
    "        for tensor in batch_X:\n",
    "            num_padding = max_length - len(tensor)\n",
    "            padded_tensor = torch.cat([tensor, torch.full((num_padding,), pad_id, dtype=torch.long)])\n",
    "            padded_batch_X.append(padded_tensor)\n",
    "\n",
    "        # Convert the lists to tensors\n",
    "        batch_X_tensor = torch.stack(padded_batch_X)\n",
    "        batch_y_tensor = torch.tensor(batch_y, dtype=torch.long)\n",
    "\n",
    "        yield batch_X_tensor, batch_y_tensor"
   ]
  },
  {
   "cell_type": "code",
   "execution_count": 74,
   "metadata": {},
   "outputs": [],
   "source": [
    "pad_token_id = vocab['<pad>']\n",
    "train_gen = lambda: data_generator(X_train, y_train, pad_token_id)\n",
    "valid_gen = lambda: data_generator(X_valid, y_valid, pad_token_id)\n",
    "test_gen = lambda: data_generator(X_test, y_test, pad_token_id)"
   ]
  },
  {
   "attachments": {},
   "cell_type": "markdown",
   "metadata": {},
   "source": [
    "# Part 1 : RNN From Scratch"
   ]
  },
  {
   "cell_type": "code",
   "execution_count": 138,
   "metadata": {},
   "outputs": [],
   "source": [
    "class RNN:\n",
    "    def __init__(self, vocab_size, embedding_size, hidden_size):\n",
    "        self.vocab_size = vocab_size\n",
    "        self.embedding_size = embedding_size\n",
    "        self.hidden_size = hidden_size\n",
    "        \n",
    "        # Initialisation des poids\n",
    "        self.W = np.random.randn(vocab_size, embedding_size)\n",
    "        self.U = np.random.randn(hidden_size, hidden_size)\n",
    "        self.V = np.random.randn(hidden_size, 1)\n",
    "        \n",
    "        # Initialisation de l'état caché\n",
    "        self.h = np.zeros((hidden_size, 1))\n",
    "    \n",
    "    def forward(self, x):\n",
    "        embedded = self.embedding(x)\n",
    "        h_t = np.tanh(np.dot(embedded, self.W) + np.dot(self.h, self.U))\n",
    "        y_pred = np.dot(h_t, self.V)\n",
    "        return y_pred.squeeze()\n",
    "    \n",
    "    def embedding(self, x):\n",
    "        embedded = np.zeros((len(x), self.embedding_size))\n",
    "        for i, idx in enumerate(x):\n",
    "            embedded[i] = np.eye(self.vocab_size)[idx]\n",
    "        return embedded\n",
    "    \n",
    "    def init_hidden(self):\n",
    "        self.h = np.zeros((self.hidden_size, 1))"
   ]
  },
  {
   "cell_type": "code",
   "execution_count": 97,
   "metadata": {},
   "outputs": [],
   "source": [
    "def mse_loss(y_pred, y_true):\n",
    "    return np.mean((y_pred - y_true) ** 2)\n",
    "\n",
    "def train_rnn(model, X_train, y_train, X_valid, y_valid, learning_rate, num_epochs):\n",
    "    train_losses = []\n",
    "    valid_losses = []\n",
    "\n",
    "    for epoch in range(num_epochs):\n",
    "        total_loss = 0\n",
    "        for i, x in enumerate(X_train):\n",
    "            model.init_hidden()\n",
    "\n",
    "            # Forward pass\n",
    "            y_pred = model.forward(x)\n",
    "\n",
    "            # Compute loss\n",
    "            loss = mse_loss(y_pred, y_train[i])\n",
    "            total_loss += loss\n",
    "\n",
    "            # Backpropagation\n",
    "            dL_dy = 2 * (y_pred - y_train[i])\n",
    "            dL_dV = np.dot(model.h.T, dL_dy)\n",
    "            dL_dh_t = np.dot(dL_dy, model.V.T)\n",
    "\n",
    "            dL_dW = np.dot(model.embedding(x).T, np.dot((1 - model.h ** 2) * dL_dh_t, model.U.T))\n",
    "            dL_dU = np.dot(model.h.T, np.dot((1 - model.h ** 2) * dL_dh_t, model.U.T))\n",
    "\n",
    "            # Update parameters\n",
    "            model.W -= learning_rate * dL_dW\n",
    "            model.U -= learning_rate * dL_dU\n",
    "            model.V -= learning_rate * dL_dV\n",
    "\n",
    "        avg_loss = total_loss / len(X_train)\n",
    "        train_losses.append(avg_loss)\n",
    "\n",
    "        # Evaluate on validation set\n",
    "        valid_loss = 0\n",
    "        for i, x in enumerate(X_valid):\n",
    "            model.init_hidden()\n",
    "            y_pred = model.forward(x)\n",
    "            valid_loss += mse_loss(y_pred, y_valid[i])\n",
    "\n",
    "        avg_valid_loss = valid_loss / len(X_valid)\n",
    "        valid_losses.append(avg_valid_loss)\n",
    "\n",
    "        print(f\"Epoch {epoch+1}/{num_epochs}, Train Loss: {avg_loss}, Valid Loss: {avg_valid_loss}\")\n",
    "\n",
    "    return train_losses, valid_losses\n"
   ]
  },
  {
   "cell_type": "code",
   "execution_count": 98,
   "metadata": {},
   "outputs": [
    {
     "ename": "ValueError",
     "evalue": "could not broadcast input array from shape (46146,) into shape (100,)",
     "output_type": "error",
     "traceback": [
      "\u001b[1;31m---------------------------------------------------------------------------\u001b[0m",
      "\u001b[1;31mValueError\u001b[0m                                Traceback (most recent call last)",
      "Cell \u001b[1;32mIn[98], line 4\u001b[0m\n\u001b[0;32m      1\u001b[0m \u001b[39mimport\u001b[39;00m \u001b[39mmatplotlib\u001b[39;00m\u001b[39m.\u001b[39;00m\u001b[39mpyplot\u001b[39;00m \u001b[39mas\u001b[39;00m \u001b[39mplt\u001b[39;00m\n\u001b[0;32m      3\u001b[0m model \u001b[39m=\u001b[39m RNN(vocab_size\u001b[39m=\u001b[39m\u001b[39mlen\u001b[39m(vocab), embedding_size\u001b[39m=\u001b[39m\u001b[39m100\u001b[39m, hidden_size\u001b[39m=\u001b[39m\u001b[39m128\u001b[39m)\n\u001b[1;32m----> 4\u001b[0m train_losses, valid_losses \u001b[39m=\u001b[39m train_rnn(model, X_train, y_train, X_valid, y_valid, learning_rate\u001b[39m=\u001b[39;49m\u001b[39m0.01\u001b[39;49m, num_epochs\u001b[39m=\u001b[39;49m\u001b[39m10\u001b[39;49m)\n\u001b[0;32m      7\u001b[0m plt\u001b[39m.\u001b[39mplot(train_losses, label\u001b[39m=\u001b[39m\u001b[39m\"\u001b[39m\u001b[39mTrain Loss\u001b[39m\u001b[39m\"\u001b[39m)\n\u001b[0;32m      8\u001b[0m plt\u001b[39m.\u001b[39mplot(valid_losses, label\u001b[39m=\u001b[39m\u001b[39m\"\u001b[39m\u001b[39mValid Loss\u001b[39m\u001b[39m\"\u001b[39m)\n",
      "Cell \u001b[1;32mIn[97], line 14\u001b[0m, in \u001b[0;36mtrain_rnn\u001b[1;34m(model, X_train, y_train, X_valid, y_valid, learning_rate, num_epochs)\u001b[0m\n\u001b[0;32m     11\u001b[0m model\u001b[39m.\u001b[39minit_hidden()\n\u001b[0;32m     13\u001b[0m \u001b[39m# Forward pass\u001b[39;00m\n\u001b[1;32m---> 14\u001b[0m y_pred \u001b[39m=\u001b[39m model\u001b[39m.\u001b[39;49mforward(x)\n\u001b[0;32m     16\u001b[0m \u001b[39m# Compute loss\u001b[39;00m\n\u001b[0;32m     17\u001b[0m loss \u001b[39m=\u001b[39m mse_loss(y_pred, y_train[i])\n",
      "Cell \u001b[1;32mIn[94], line 16\u001b[0m, in \u001b[0;36mRNN.forward\u001b[1;34m(self, x)\u001b[0m\n\u001b[0;32m     15\u001b[0m \u001b[39mdef\u001b[39;00m \u001b[39mforward\u001b[39m(\u001b[39mself\u001b[39m, x):\n\u001b[1;32m---> 16\u001b[0m     embedded \u001b[39m=\u001b[39m \u001b[39mself\u001b[39;49m\u001b[39m.\u001b[39;49membedding(x)\n\u001b[0;32m     17\u001b[0m     h_t \u001b[39m=\u001b[39m np\u001b[39m.\u001b[39mtanh(np\u001b[39m.\u001b[39mdot(embedded, \u001b[39mself\u001b[39m\u001b[39m.\u001b[39mW) \u001b[39m+\u001b[39m np\u001b[39m.\u001b[39mdot(\u001b[39mself\u001b[39m\u001b[39m.\u001b[39mh, \u001b[39mself\u001b[39m\u001b[39m.\u001b[39mU))\n\u001b[0;32m     18\u001b[0m     y_pred \u001b[39m=\u001b[39m np\u001b[39m.\u001b[39mdot(h_t, \u001b[39mself\u001b[39m\u001b[39m.\u001b[39mV)\n",
      "Cell \u001b[1;32mIn[94], line 24\u001b[0m, in \u001b[0;36mRNN.embedding\u001b[1;34m(self, x)\u001b[0m\n\u001b[0;32m     22\u001b[0m embedded \u001b[39m=\u001b[39m np\u001b[39m.\u001b[39mzeros((\u001b[39mlen\u001b[39m(x), \u001b[39mself\u001b[39m\u001b[39m.\u001b[39membedding_size))\n\u001b[0;32m     23\u001b[0m \u001b[39mfor\u001b[39;00m i, idx \u001b[39min\u001b[39;00m \u001b[39menumerate\u001b[39m(x):\n\u001b[1;32m---> 24\u001b[0m     embedded[i] \u001b[39m=\u001b[39m np\u001b[39m.\u001b[39meye(\u001b[39mself\u001b[39m\u001b[39m.\u001b[39mvocab_size)[idx]\n\u001b[0;32m     25\u001b[0m \u001b[39mreturn\u001b[39;00m embedded\n",
      "\u001b[1;31mValueError\u001b[0m: could not broadcast input array from shape (46146,) into shape (100,)"
     ]
    }
   ],
   "source": [
    "import matplotlib.pyplot as plt\n",
    "\n",
    "model = RNN(vocab_size=len(vocab), embedding_size=100, hidden_size=128)\n",
    "train_losses, valid_losses = train_rnn(model, X_train, y_train, X_valid, y_valid, learning_rate=0.01, num_epochs=10)\n",
    "\n",
    "\n",
    "plt.plot(train_losses, label=\"Train Loss\")\n",
    "plt.plot(valid_losses, label=\"Valid Loss\")\n",
    "plt.legend()\n",
    "plt.show()\n"
   ]
  },
  {
   "attachments": {},
   "cell_type": "markdown",
   "metadata": {},
   "source": [
    "# PART 2 : RNN AVEC TORCH"
   ]
  },
  {
   "attachments": {},
   "cell_type": "markdown",
   "metadata": {},
   "source": [
    "La classe :"
   ]
  },
  {
   "cell_type": "code",
   "execution_count": 139,
   "metadata": {},
   "outputs": [],
   "source": [
    "class RNN(nn.Module):\n",
    "    \"\"\"A simple RNN module with word embeddings.\n",
    "    \"\"\"\n",
    "    def __init__(self, vocab_size: int, embed_size: int, hidden_size: int, n_layers: int, n_outputs: int) -> None:\n",
    "        \"\"\"\n",
    "        Args:\n",
    "            vocab_size: vocabulary size.\n",
    "            embed_size: embedding dimensions.\n",
    "            hidden_size: hidden layer size.\n",
    "            n_layers: the number of layers.\n",
    "            n_outputs: the number of output classes.\n",
    "        \"\"\"\n",
    "        super().__init__()\n",
    "        self.vocab_size = vocab_size\n",
    "        self.embed_size = embed_size\n",
    "        self.hidden_size = hidden_size\n",
    "        self.n_layers = n_layers\n",
    "        self.n_outputs = n_outputs\n",
    "\n",
    "\n",
    "        # The word embedding layer.\n",
    "        self.embed = nn.Embedding(self.vocab_size, self.embed_size)\n",
    "        # The RNN\n",
    "        self.rnn = nn.RNN(\n",
    "            input_size = self.embed_size,\n",
    "            hidden_size = self.hidden_size,\n",
    "            num_layers = self.n_layers,\n",
    "            batch_first = True, # Changes the order of dimension to put the batches first.\n",
    "        )\n",
    "        # A fully connected layer to project the RNN's output to only one output used for classification.\n",
    "        self.fc = nn.Linear(self.hidden_size, self.n_outputs)\n",
    "\n",
    "    def forward(self, X: torch.Tensor) -> torch.Tensor:\n",
    "        \"\"\"Function called when the model is called with data as input.\n",
    "        Args:\n",
    "            X: the input tensor of dimensions batch_size, sequence length, vocab size (actually just an int).\n",
    "        Returns:\n",
    "            The resulting tensor of dimension batch_size, sequence length, output dimensions.\n",
    "        \"\"\"\n",
    "        h0 = torch.zeros(self.n_layers, X.size(0), self.hidden_size).to(device)\n",
    "\n",
    "        out = self.embed(X)\n",
    "        # out contains the output layer of all words in the sequence.\n",
    "        # First dim is batch, second the word in the sequence, third is the vector itself.\n",
    "        # The second output value is the last vector of all intermediate layer.\n",
    "        # Only use it if you want to access the intermediate layer values of a\n",
    "        # multilayer model.\n",
    "        out, _ = self.rnn(out, h0)\n",
    "        # Getting the last value only.\n",
    "        out = out[:, -1, :]\n",
    "    \n",
    "        # Linear projection.\n",
    "        out = self.fc(out)\n",
    "\n",
    "        return out"
   ]
  },
  {
   "attachments": {},
   "cell_type": "markdown",
   "metadata": {},
   "source": [
    "La fonction d'entrainement :"
   ]
  },
  {
   "cell_type": "code",
   "execution_count": 150,
   "metadata": {},
   "outputs": [],
   "source": [
    "def train(\n",
    "    model: nn.Module,\n",
    "    criterion: Callable,\n",
    "    optimizer: torch.optim.Optimizer,\n",
    "    n_epochs: int,\n",
    "    train_gen: Callable,\n",
    "    valid_gen: Callable,\n",
    ") -> Tuple[nn.Module, List[float], List[float]]:\n",
    "    \"\"\"Train a model using a batch gradient descent.\n",
    "    Args:\n",
    "        model: a class inheriting from nn.Module.\n",
    "        criterion: a loss criterion.\n",
    "        optimizer: an optimizer (e.g. Adam, RMSprop, ...).\n",
    "        n_epochs: the number of training epochs.\n",
    "        train_gen: a callable function returning a batch (data, labels).\n",
    "        valid_gen: a callable function returning a batch (data, labels).\n",
    "        device: the device to use for computation.\n",
    "    Returns:\n",
    "        A tuple: [best_model (by validation loss), training losses, validation losses].\n",
    "    \"\"\"\n",
    "    train_losses = []\n",
    "    valid_losses = []\n",
    "    best_valid_loss = float('inf')\n",
    "    device = torch.device(\"cuda\" if torch.cuda.is_available() else \"cpu\")\n",
    "\n",
    "    for epoch in range(n_epochs):\n",
    "        # Training Phase \n",
    "        model.train()\n",
    "        train_loss = 0\n",
    "        num_batches = 0  # counter to keep track of number of batches\n",
    "        for X, y in train_gen():\n",
    "            X, y = X.to(device), y.to(device).unsqueeze(1).float()\n",
    "            optimizer.zero_grad()\n",
    "            output = model(X)\n",
    "            loss = criterion(output, y)\n",
    "            loss.backward()\n",
    "            optimizer.step()\n",
    "            train_loss += loss.item()\n",
    "        \n",
    "        train_loss /= num_batches if num_batches > 0 else 1\n",
    "        train_losses.append(train_loss)\n",
    "\n",
    "        # Validation phase\n",
    "        model.eval()\n",
    "        valid_loss = 0\n",
    "        with torch.no_grad():\n",
    "            for X, y in valid_gen():\n",
    "                X, y = X.to(device), y.to(device).unsqueeze(1).float()\n",
    "                output = model(X)\n",
    "                loss = criterion(output, y)\n",
    "                valid_loss += loss.item()\n",
    "        \n",
    "        valid_loss /= num_batches if num_batches > 0 else 1\n",
    "        valid_losses.append(valid_loss)\n",
    "\n",
    "        # check if current validation loss is better (lower) than the previous best one\n",
    "        if valid_loss < best_valid_loss:\n",
    "            best_valid_loss = valid_loss\n",
    "            best_model = model\n",
    "\n",
    "        print(f'Epoch: {epoch+1}/{n_epochs}.. Training Loss: {train_loss:.3f}.. Validation Loss: {valid_loss:.3f}')\n",
    "\n",
    "    return best_model, train_losses, valid_losses"
   ]
  },
  {
   "cell_type": "code",
   "execution_count": 151,
   "metadata": {},
   "outputs": [
    {
     "name": "stdout",
     "output_type": "stream",
     "text": [
      "Epoch: 1/20.. Training Loss: 434.389.. Validation Loss: 108.706\n",
      "Epoch: 2/20.. Training Loss: 433.177.. Validation Loss: 108.683\n",
      "Epoch: 3/20.. Training Loss: 432.907.. Validation Loss: 108.897\n",
      "Epoch: 4/20.. Training Loss: 431.994.. Validation Loss: 109.085\n",
      "Epoch: 5/20.. Training Loss: 430.541.. Validation Loss: 109.197\n",
      "Epoch: 6/20.. Training Loss: 428.366.. Validation Loss: 109.508\n",
      "Epoch: 7/20.. Training Loss: 434.095.. Validation Loss: 108.849\n",
      "Epoch: 8/20.. Training Loss: 432.090.. Validation Loss: 108.972\n",
      "Epoch: 9/20.. Training Loss: 432.104.. Validation Loss: 108.736\n",
      "Epoch: 10/20.. Training Loss: 431.377.. Validation Loss: 108.910\n",
      "Epoch: 11/20.. Training Loss: 430.607.. Validation Loss: 108.852\n",
      "Epoch: 12/20.. Training Loss: 430.047.. Validation Loss: 109.434\n",
      "Epoch: 13/20.. Training Loss: 429.311.. Validation Loss: 109.616\n",
      "Epoch: 14/20.. Training Loss: 429.205.. Validation Loss: 109.168\n",
      "Epoch: 15/20.. Training Loss: 429.248.. Validation Loss: 109.171\n",
      "Epoch: 16/20.. Training Loss: 428.588.. Validation Loss: 109.169\n",
      "Epoch: 17/20.. Training Loss: 428.394.. Validation Loss: 109.243\n",
      "Epoch: 18/20.. Training Loss: 427.582.. Validation Loss: 109.401\n",
      "Epoch: 19/20.. Training Loss: 427.222.. Validation Loss: 109.594\n",
      "Epoch: 20/20.. Training Loss: 426.448.. Validation Loss: 109.795\n"
     ]
    }
   ],
   "source": [
    "#train\n",
    "device = torch.device(\"cuda\" if torch.cuda.is_available() else \"cpu\")\n",
    "model = RNN(len(vocab), 32, 64, 1, 1).to(device)\n",
    "criterion = nn.BCEWithLogitsLoss()\n",
    "optimizer = torch.optim.Adam(model.parameters())\n",
    "best_model, train_losses, valid_losses = train(model, criterion, optimizer, 20, train_gen, valid_gen)"
   ]
  },
  {
   "cell_type": "code",
   "execution_count": 152,
   "metadata": {},
   "outputs": [
    {
     "data": {
      "text/plain": [
       "<matplotlib.legend.Legend at 0x1cee429bf50>"
      ]
     },
     "execution_count": 152,
     "metadata": {},
     "output_type": "execute_result"
    },
    {
     "data": {
      "image/png": "[encoded data removed]",
      "text/plain": [
       "<Figure size 640x480 with 1 Axes>"
      ]
     },
     "metadata": {},
     "output_type": "display_data"
    }
   ],
   "source": [
    "plt.plot(train_losses, label=\"Training loss\")\n",
    "plt.plot(valid_losses, label=\"Validation loss\")\n",
    "plt.legend()"
   ]
  },
  {
   "attachments": {},
   "cell_type": "markdown",
   "metadata": {},
   "source": [
    "Comme on peut le voir le modele ne semble pas converger donc c'est pas terrible on va voir ce que ca donne sur les tests."
   ]
  },
  {
   "cell_type": "code",
   "execution_count": 155,
   "metadata": {},
   "outputs": [],
   "source": [
    "def accuracy(y_pred, y_true):\n",
    "    y_pred = torch.round(torch.sigmoid(y_pred))\n",
    "    correct = (y_pred == y_true).float()\n",
    "    acc = correct.sum() / len(correct)\n",
    "    return acc"
   ]
  },
  {
   "attachments": {},
   "cell_type": "markdown",
   "metadata": {},
   "source": [
    "On re entraine le modele mais avec une nouvelle fonction qui va nous permettre de tracker egalement l'accuracy en plus de la loss. On va le faire sur 10 epochs car trop long sinon."
   ]
  },
  {
   "cell_type": "code",
   "execution_count": 159,
   "metadata": {},
   "outputs": [],
   "source": [
    "import copy\n",
    "\n",
    "def train_with_accuracy(\n",
    "    model: nn.Module,\n",
    "    criterion: Callable,\n",
    "    optimizer: torch.optim.Optimizer,\n",
    "    n_epochs: int,\n",
    "    train_gen: Callable,\n",
    "    valid_gen: Callable,\n",
    ") -> Tuple[nn.Module, List[float], List[float], List[float], List[float]]:\n",
    "    \"\"\"Train a model using a batch gradient descent.\n",
    "    Args:\n",
    "        model: a class inheriting from nn.Module.\n",
    "        criterion: a loss criterion.\n",
    "        optimizer: an optimizer (e.g. Adam, RMSprop, ...).\n",
    "        n_epochs: the number of training epochs.\n",
    "        train_gen: a callable function returing a batch (data, labels).\n",
    "        valid_gen: a callable function returing a batch (data, labels).\n",
    "    Returns:\n",
    "        A tuple:[best_model (by validation loss), training losses, validation losses, training accuracies, validation accuracies].\n",
    "    \"\"\"\n",
    "    best_model = None\n",
    "    best_val_loss = float('inf')\n",
    "\n",
    "    train_losses = []\n",
    "    valid_losses = []\n",
    "\n",
    "    train_accuracies = []\n",
    "    valid_accuracies = []\n",
    "\n",
    "    for epoch in range(n_epochs):\n",
    "        # Training phase\n",
    "        model.train()\n",
    "        train_loss = 0.0\n",
    "        correct_predictions = 0\n",
    "        total_predictions = 0\n",
    "\n",
    "        for batch_x, batch_y in train_gen():\n",
    "            batch_x, batch_y = batch_x.to(device), batch_y.to(device).unsqueeze(1).float()\n",
    "            output = model(batch_x)\n",
    "            loss = criterion(output, batch_y)\n",
    "            \n",
    "            optimizer.zero_grad()\n",
    "            loss.backward()\n",
    "            optimizer.step()\n",
    "\n",
    "            train_loss += loss.item()\n",
    "\n",
    "            predictions = torch.round(torch.sigmoid(output))\n",
    "            correct_predictions += (predictions == batch_y).sum().item()\n",
    "            total_predictions += batch_y.size(0)\n",
    "\n",
    "        train_losses.append(train_loss / total_predictions)\n",
    "        train_accuracies.append(correct_predictions / total_predictions)\n",
    "\n",
    "        # Validation phase\n",
    "        model.eval()\n",
    "        valid_loss = 0.0\n",
    "        correct_predictions = 0\n",
    "        total_predictions = 0\n",
    "\n",
    "        with torch.no_grad():\n",
    "            for batch_x, batch_y in valid_gen():\n",
    "                batch_x, batch_y = batch_x.to(device), batch_y.to(device).unsqueeze(1).float()\n",
    "                output = model(batch_x)\n",
    "                loss = criterion(output, batch_y)\n",
    "\n",
    "                valid_loss += loss.item()\n",
    "\n",
    "                predictions = torch.round(torch.sigmoid(output))\n",
    "                correct_predictions += (predictions == batch_y).sum().item()\n",
    "                total_predictions += batch_y.size(0)\n",
    "\n",
    "        valid_losses.append(valid_loss / total_predictions)\n",
    "        valid_accuracies.append(correct_predictions / total_predictions)\n",
    "\n",
    "        if valid_losses[-1] < best_val_loss:\n",
    "            best_model = copy.deepcopy(model)\n",
    "            best_val_loss = valid_losses[-1]\n",
    "\n",
    "    return best_model, train_losses, valid_losses, train_accuracies, valid_accuracies\n"
   ]
  },
  {
   "cell_type": "code",
   "execution_count": 161,
   "metadata": {},
   "outputs": [],
   "source": [
    "#train\n",
    "device = torch.device(\"cuda\" if torch.cuda.is_available() else \"cpu\")\n",
    "model = RNN(len(vocab), 32, 64, 1, 1).to(device)\n",
    "criterion = nn.BCEWithLogitsLoss()\n",
    "optimizer = torch.optim.Adam(model.parameters())\n",
    "best_model, train_losses, valid_losses, train_accuracies, valid_accuracies = train_with_accuracy(model, criterion, optimizer, 10, train_gen, valid_gen)"
   ]
  },
  {
   "cell_type": "code",
   "execution_count": 167,
   "metadata": {},
   "outputs": [
    {
     "data": {
      "text/plain": [
       "<matplotlib.legend.Legend at 0x1ced8617cd0>"
      ]
     },
     "execution_count": 167,
     "metadata": {},
     "output_type": "execute_result"
    },
    {
     "data": {
      "image/png": "[encoded data removed]",
      "text/plain": [
       "<Figure size 640x480 with 1 Axes>"
      ]
     },
     "metadata": {},
     "output_type": "display_data"
    }
   ],
   "source": [
    "plt.plot(train_losses, label=\"Training loss\")\n",
    "plt.plot(valid_losses, label=\"Validation loss\")\n",
    "plt.plot(train_accuracies, label=\"Training accuracy\")\n",
    "plt.plot(valid_accuracies, label=\"Validation accuracy\")\n",
    "plt.legend()"
   ]
  },
  {
   "cell_type": "code",
   "execution_count": 164,
   "metadata": {},
   "outputs": [],
   "source": [
    "def evaluate(model, criterion, test_gen):\n",
    "    model.eval()\n",
    "    test_loss = 0.0\n",
    "    correct_predictions = 0\n",
    "    total_predictions = 0\n",
    "\n",
    "    with torch.no_grad():\n",
    "        for batch_x, batch_y in test_gen():\n",
    "            batch_x, batch_y = batch_x.to(device), batch_y.to(device).unsqueeze(1).float()\n",
    "            output = model(batch_x)\n",
    "            loss = criterion(output, batch_y)\n",
    "\n",
    "            test_loss += loss.item()\n",
    "\n",
    "            predictions = torch.round(torch.sigmoid(output))\n",
    "            correct_predictions += (predictions == batch_y).sum().item()\n",
    "            total_predictions += batch_y.size(0)\n",
    "\n",
    "    return test_loss / total_predictions, correct_predictions / total_predictions"
   ]
  },
  {
   "cell_type": "code",
   "execution_count": 165,
   "metadata": {},
   "outputs": [
    {
     "name": "stdout",
     "output_type": "stream",
     "text": [
      "Test Loss: 0.0218, Test Accuracy: 50.03%\n"
     ]
    }
   ],
   "source": [
    "test_loss, test_accuracy = evaluate(best_model, criterion, test_gen)\n",
    "print(f\"Test Loss: {test_loss:.4f}, Test Accuracy: {test_accuracy * 100:.2f}%\")"
   ]
  },
  {
   "attachments": {},
   "cell_type": "markdown",
   "metadata": {},
   "source": [
    "Meme constat, le modele ne converge pas vraiment et on a une accuracy de seulement 0.5 ce qui n'est pas tres bon."
   ]
  },
  {
   "attachments": {},
   "cell_type": "markdown",
   "metadata": {},
   "source": [
    "On passe maintenant au modele LSTM : "
   ]
  },
  {
   "cell_type": "code",
   "execution_count": 168,
   "metadata": {},
   "outputs": [],
   "source": [
    "class LSTM(nn.Module):\n",
    "    def __init__(self, vocab_size, embed_size, hidden_size, n_layers, n_outputs):\n",
    "        super(LSTM, self).__init__()\n",
    "        self.vocab_size = vocab_size\n",
    "        self.embed_size = embed_size\n",
    "        self.hidden_size = hidden_size\n",
    "        self.n_layers = n_layers\n",
    "        self.n_outputs = n_outputs\n",
    "\n",
    "        self.embed = nn.Embedding(self.vocab_size, self.embed_size)\n",
    "        self.lstm = nn.LSTM(self.embed_size, self.hidden_size, self.n_layers, batch_first=True)\n",
    "        self.fc = nn.Linear(self.hidden_size, self.n_outputs)\n",
    "\n",
    "    def forward(self, X):\n",
    "        h0 = torch.zeros(self.n_layers, X.size(0), self.hidden_size).to(device)\n",
    "        c0 = torch.zeros(self.n_layers, X.size(0), self.hidden_size).to(device)\n",
    "\n",
    "        out = self.embed(X)\n",
    "        out, _ = self.lstm(out, (h0, c0))\n",
    "        out = out[:, -1, :]\n",
    "        out = self.fc(out)\n",
    "\n",
    "        return out\n"
   ]
  },
  {
   "cell_type": "code",
   "execution_count": 170,
   "metadata": {},
   "outputs": [],
   "source": [
    "model = LSTM(len(vocab), 32, 64, 1, 1).to(device)\n",
    "criterion = nn.BCEWithLogitsLoss()\n",
    "optimizer = torch.optim.Adam(model.parameters())\n",
    "best_modelLSTM, train_lossesLSTM, valid_lossesLSTM, train_accuraciesLSTM, valid_accuraciesLSTM = train_with_accuracy(model, criterion, optimizer, 10, train_gen, valid_gen)"
   ]
  },
  {
   "cell_type": "code",
   "execution_count": 171,
   "metadata": {},
   "outputs": [
    {
     "data": {
      "text/plain": [
       "<matplotlib.legend.Legend at 0x1ceceaffcd0>"
      ]
     },
     "execution_count": 171,
     "metadata": {},
     "output_type": "execute_result"
    },
    {
     "data": {
      "image/png": "[encoded data removed]",
      "text/plain": [
       "<Figure size 640x480 with 1 Axes>"
      ]
     },
     "metadata": {},
     "output_type": "display_data"
    }
   ],
   "source": [
    "plt.plot(train_lossesLSTM, label=\"Training loss\")\n",
    "plt.plot(valid_lossesLSTM, label=\"Validation loss\")\n",
    "plt.plot(train_accuraciesLSTM, label=\"Training accuracy\")\n",
    "plt.plot(valid_accuraciesLSTM, label=\"Validation accuracy\")\n",
    "plt.legend()"
   ]
  },
  {
   "cell_type": "code",
   "execution_count": 172,
   "metadata": {},
   "outputs": [
    {
     "name": "stdout",
     "output_type": "stream",
     "text": [
      "Test Loss: 0.0218, Test Accuracy: 50.03%\n"
     ]
    }
   ],
   "source": [
    "test_lossLSTM, test_accuracyLSTM = evaluate(best_modelLSTM, criterion, test_gen)\n",
    "print(f\"Test Loss: {test_loss:.4f}, Test Accuracy: {test_accuracy * 100:.2f}%\")"
   ]
  },
  {
   "attachments": {},
   "cell_type": "markdown",
   "metadata": {},
   "source": [
    "Les stats sont quasiment les memes entre le RNN et le modele LSTM : 50% d'accuracy et une loss qui ne converge pas."
   ]
  },
  {
   "cell_type": "code",
   "execution_count": 154,
   "metadata": {},
   "outputs": [],
   "source": [
    "def predict_text(model, text):\n",
    "    model.eval()\n",
    "    with torch.no_grad():\n",
    "        test_vector = text_pipeline(text).unsqueeze(0).to(device)\n",
    "        output = model(test_vector)\n",
    "        prediction = torch.round(torch.sigmoid(output))\n",
    "        confidence = torch.sigmoid(output)\n",
    "    return prediction.item(), confidence.item()"
   ]
  },
  {
   "cell_type": "code",
   "execution_count": 175,
   "metadata": {},
   "outputs": [
    {
     "name": "stdout",
     "output_type": "stream",
     "text": [
      "Prediction: 1.0, Confidence: 55.33%\n",
      "Prediction: 0.0, Confidence: 46.00%\n"
     ]
    }
   ],
   "source": [
    "#test on a random text\n",
    "text = \"This movie is really bad. I hate it.\"\n",
    "prediction, confidence = predict_text(best_model, text)\n",
    "print(f\"Prediction: {prediction}, Confidence: {confidence * 100:.2f}%\")\n",
    "prediction, confidence = predict_text(best_modelLSTM, text)\n",
    "print(f\"Prediction: {prediction}, Confidence: {confidence * 100:.2f}%\")"
   ]
  },
  {
   "attachments": {},
   "cell_type": "markdown",
   "metadata": {},
   "source": [
    "Compare au lab precedent les modeles sont beaucoup moins performant et on comprend mieux l'accuracy de 50% sur les tests car sur une phrase aussi simple il n'est sur qu'a environ 50%. Le modele CNN sur Glove est beaucoup mieux."
   ]
  }
 ],
 "metadata": {
  "kernelspec": {
   "display_name": "Python 3",
   "language": "python",
   "name": "python3"
  },
  "language_info": {
   "codemirror_mode": {
    "name": "ipython",
    "version": 3
   },
   "file_extension": ".py",
   "mimetype": "text/x-python",
   "name": "python",
   "nbconvert_exporter": "python",
   "pygments_lexer": "ipython3",
   "version": "3.11.3"
  },
  "orig_nbformat": 4
 },
 "nbformat": 4,
 "nbformat_minor": 2
}
